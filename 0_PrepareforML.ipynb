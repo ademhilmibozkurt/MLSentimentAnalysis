{
 "cells": [
  {
   "cell_type": "markdown",
   "id": "2a7f27b2-af10-4cc9-83b2-282d9adaf378",
   "metadata": {},
   "source": [
    "# Sentiment Analysis On Amazon Reviews"
   ]
  },
  {
   "cell_type": "markdown",
   "id": "d0c848fa-d202-4f27-b080-898cab52d965",
   "metadata": {},
   "source": [
    "![TM](source/textMining.jpg)"
   ]
  },
  {
   "cell_type": "markdown",
   "id": "9d35d1d4-765f-4fbc-a043-1cfdfe9d9941",
   "metadata": {},
   "source": [
    "## STEP1: Import Data From CSV"
   ]
  },
  {
   "cell_type": "markdown",
   "id": "24629ba7-3004-4910-aef9-225ae9b96585",
   "metadata": {},
   "source": [
    "### Import Dependencies"
   ]
  },
  {
   "cell_type": "code",
   "execution_count": 1,
   "id": "5719f13f-75a2-4776-9cf0-55d2032e736d",
   "metadata": {},
   "outputs": [],
   "source": [
    "import pandas as pd\n",
    "import numpy as np\n",
    "import seaborn as sns\n",
    "from matplotlib import pyplot as plt\n",
    "plt.style.use('ggplot')\n",
    "\n",
    "import warnings\n",
    "warnings.filterwarnings('ignore')"
   ]
  },
  {
   "cell_type": "code",
   "execution_count": 2,
   "id": "a94444fc-a29b-4861-93f5-73bb58b3158d",
   "metadata": {},
   "outputs": [],
   "source": [
    "df = pd.read_csv(\"source/reviews.csv\")"
   ]
  },
  {
   "cell_type": "markdown",
   "id": "a7c1084a-a39f-4ab5-a475-c13a8f28fcdf",
   "metadata": {},
   "source": [
    "### First Look"
   ]
  },
  {
   "cell_type": "markdown",
   "id": "f058e907-ece4-468c-ab5d-9acb6447f399",
   "metadata": {},
   "source": [
    "- Aim of this step have pre-info about dataset\n",
    "- Start with a part of dataset to understand structure\n",
    "- Think about columns and rows\n",
    "- Learn which data types are using"
   ]
  },
  {
   "cell_type": "code",
   "execution_count": 3,
   "id": "1119d01b-15e5-44ca-a497-8440359bc2a4",
   "metadata": {},
   "outputs": [
    {
     "data": {
      "text/plain": [
       "(568454, 10)"
      ]
     },
     "execution_count": 3,
     "metadata": {},
     "output_type": "execute_result"
    }
   ],
   "source": [
    "df.shape"
   ]
  },
  {
   "cell_type": "markdown",
   "id": "a6d0f575-5328-48cf-813d-5adcbbf0a2e9",
   "metadata": {},
   "source": [
    "568454 rows, 10 columns"
   ]
  },
  {
   "cell_type": "code",
   "execution_count": 4,
   "id": "080d2bfd-a5cf-43fe-8f36-29ccfb2104d9",
   "metadata": {},
   "outputs": [
    {
     "data": {
      "text/html": [
       "<div>\n",
       "<style scoped>\n",
       "    .dataframe tbody tr th:only-of-type {\n",
       "        vertical-align: middle;\n",
       "    }\n",
       "\n",
       "    .dataframe tbody tr th {\n",
       "        vertical-align: top;\n",
       "    }\n",
       "\n",
       "    .dataframe thead th {\n",
       "        text-align: right;\n",
       "    }\n",
       "</style>\n",
       "<table border=\"1\" class=\"dataframe\">\n",
       "  <thead>\n",
       "    <tr style=\"text-align: right;\">\n",
       "      <th></th>\n",
       "      <th>Id</th>\n",
       "      <th>ProductId</th>\n",
       "      <th>UserId</th>\n",
       "      <th>ProfileName</th>\n",
       "      <th>HelpfulnessNumerator</th>\n",
       "      <th>HelpfulnessDenominator</th>\n",
       "      <th>Score</th>\n",
       "      <th>Time</th>\n",
       "      <th>Summary</th>\n",
       "      <th>Text</th>\n",
       "    </tr>\n",
       "  </thead>\n",
       "  <tbody>\n",
       "    <tr>\n",
       "      <th>0</th>\n",
       "      <td>1</td>\n",
       "      <td>B001E4KFG0</td>\n",
       "      <td>A3SGXH7AUHU8GW</td>\n",
       "      <td>delmartian</td>\n",
       "      <td>1</td>\n",
       "      <td>1</td>\n",
       "      <td>5</td>\n",
       "      <td>1303862400</td>\n",
       "      <td>Good Quality Dog Food</td>\n",
       "      <td>I have bought several of the Vitality canned d...</td>\n",
       "    </tr>\n",
       "    <tr>\n",
       "      <th>1</th>\n",
       "      <td>2</td>\n",
       "      <td>B00813GRG4</td>\n",
       "      <td>A1D87F6ZCVE5NK</td>\n",
       "      <td>dll pa</td>\n",
       "      <td>0</td>\n",
       "      <td>0</td>\n",
       "      <td>1</td>\n",
       "      <td>1346976000</td>\n",
       "      <td>Not as Advertised</td>\n",
       "      <td>Product arrived labeled as Jumbo Salted Peanut...</td>\n",
       "    </tr>\n",
       "    <tr>\n",
       "      <th>2</th>\n",
       "      <td>3</td>\n",
       "      <td>B000LQOCH0</td>\n",
       "      <td>ABXLMWJIXXAIN</td>\n",
       "      <td>Natalia Corres \"Natalia Corres\"</td>\n",
       "      <td>1</td>\n",
       "      <td>1</td>\n",
       "      <td>4</td>\n",
       "      <td>1219017600</td>\n",
       "      <td>\"Delight\" says it all</td>\n",
       "      <td>This is a confection that has been around a fe...</td>\n",
       "    </tr>\n",
       "    <tr>\n",
       "      <th>3</th>\n",
       "      <td>4</td>\n",
       "      <td>B000UA0QIQ</td>\n",
       "      <td>A395BORC6FGVXV</td>\n",
       "      <td>Karl</td>\n",
       "      <td>3</td>\n",
       "      <td>3</td>\n",
       "      <td>2</td>\n",
       "      <td>1307923200</td>\n",
       "      <td>Cough Medicine</td>\n",
       "      <td>If you are looking for the secret ingredient i...</td>\n",
       "    </tr>\n",
       "    <tr>\n",
       "      <th>4</th>\n",
       "      <td>5</td>\n",
       "      <td>B006K2ZZ7K</td>\n",
       "      <td>A1UQRSCLF8GW1T</td>\n",
       "      <td>Michael D. Bigham \"M. Wassir\"</td>\n",
       "      <td>0</td>\n",
       "      <td>0</td>\n",
       "      <td>5</td>\n",
       "      <td>1350777600</td>\n",
       "      <td>Great taffy</td>\n",
       "      <td>Great taffy at a great price.  There was a wid...</td>\n",
       "    </tr>\n",
       "  </tbody>\n",
       "</table>\n",
       "</div>"
      ],
      "text/plain": [
       "   Id   ProductId          UserId                      ProfileName  \\\n",
       "0   1  B001E4KFG0  A3SGXH7AUHU8GW                       delmartian   \n",
       "1   2  B00813GRG4  A1D87F6ZCVE5NK                           dll pa   \n",
       "2   3  B000LQOCH0   ABXLMWJIXXAIN  Natalia Corres \"Natalia Corres\"   \n",
       "3   4  B000UA0QIQ  A395BORC6FGVXV                             Karl   \n",
       "4   5  B006K2ZZ7K  A1UQRSCLF8GW1T    Michael D. Bigham \"M. Wassir\"   \n",
       "\n",
       "   HelpfulnessNumerator  HelpfulnessDenominator  Score        Time  \\\n",
       "0                     1                       1      5  1303862400   \n",
       "1                     0                       0      1  1346976000   \n",
       "2                     1                       1      4  1219017600   \n",
       "3                     3                       3      2  1307923200   \n",
       "4                     0                       0      5  1350777600   \n",
       "\n",
       "                 Summary                                               Text  \n",
       "0  Good Quality Dog Food  I have bought several of the Vitality canned d...  \n",
       "1      Not as Advertised  Product arrived labeled as Jumbo Salted Peanut...  \n",
       "2  \"Delight\" says it all  This is a confection that has been around a fe...  \n",
       "3         Cough Medicine  If you are looking for the secret ingredient i...  \n",
       "4            Great taffy  Great taffy at a great price.  There was a wid...  "
      ]
     },
     "execution_count": 4,
     "metadata": {},
     "output_type": "execute_result"
    }
   ],
   "source": [
    "df.head(5)"
   ]
  },
  {
   "cell_type": "markdown",
   "id": "0f8d11dc-21cc-4c6b-8a0d-7124af211491",
   "metadata": {},
   "source": [
    "first 5 rows of df"
   ]
  },
  {
   "cell_type": "code",
   "execution_count": 5,
   "id": "6a7baa88-a251-4858-a532-8632cf3df48e",
   "metadata": {},
   "outputs": [
    {
     "data": {
      "text/html": [
       "<div>\n",
       "<style scoped>\n",
       "    .dataframe tbody tr th:only-of-type {\n",
       "        vertical-align: middle;\n",
       "    }\n",
       "\n",
       "    .dataframe tbody tr th {\n",
       "        vertical-align: top;\n",
       "    }\n",
       "\n",
       "    .dataframe thead th {\n",
       "        text-align: right;\n",
       "    }\n",
       "</style>\n",
       "<table border=\"1\" class=\"dataframe\">\n",
       "  <thead>\n",
       "    <tr style=\"text-align: right;\">\n",
       "      <th></th>\n",
       "      <th>Id</th>\n",
       "      <th>ProductId</th>\n",
       "      <th>UserId</th>\n",
       "      <th>ProfileName</th>\n",
       "      <th>HelpfulnessNumerator</th>\n",
       "      <th>HelpfulnessDenominator</th>\n",
       "      <th>Score</th>\n",
       "      <th>Time</th>\n",
       "      <th>Summary</th>\n",
       "      <th>Text</th>\n",
       "    </tr>\n",
       "  </thead>\n",
       "  <tbody>\n",
       "    <tr>\n",
       "      <th>568449</th>\n",
       "      <td>568450</td>\n",
       "      <td>B001EO7N10</td>\n",
       "      <td>A28KG5XORO54AY</td>\n",
       "      <td>Lettie D. Carter</td>\n",
       "      <td>0</td>\n",
       "      <td>0</td>\n",
       "      <td>5</td>\n",
       "      <td>1299628800</td>\n",
       "      <td>Will not do without</td>\n",
       "      <td>Great for sesame chicken..this is a good if no...</td>\n",
       "    </tr>\n",
       "    <tr>\n",
       "      <th>568450</th>\n",
       "      <td>568451</td>\n",
       "      <td>B003S1WTCU</td>\n",
       "      <td>A3I8AFVPEE8KI5</td>\n",
       "      <td>R. Sawyer</td>\n",
       "      <td>0</td>\n",
       "      <td>0</td>\n",
       "      <td>2</td>\n",
       "      <td>1331251200</td>\n",
       "      <td>disappointed</td>\n",
       "      <td>I'm disappointed with the flavor. The chocolat...</td>\n",
       "    </tr>\n",
       "    <tr>\n",
       "      <th>568451</th>\n",
       "      <td>568452</td>\n",
       "      <td>B004I613EE</td>\n",
       "      <td>A121AA1GQV751Z</td>\n",
       "      <td>pksd \"pk_007\"</td>\n",
       "      <td>2</td>\n",
       "      <td>2</td>\n",
       "      <td>5</td>\n",
       "      <td>1329782400</td>\n",
       "      <td>Perfect for our maltipoo</td>\n",
       "      <td>These stars are small, so you can give 10-15 o...</td>\n",
       "    </tr>\n",
       "    <tr>\n",
       "      <th>568452</th>\n",
       "      <td>568453</td>\n",
       "      <td>B004I613EE</td>\n",
       "      <td>A3IBEVCTXKNOH</td>\n",
       "      <td>Kathy A. Welch \"katwel\"</td>\n",
       "      <td>1</td>\n",
       "      <td>1</td>\n",
       "      <td>5</td>\n",
       "      <td>1331596800</td>\n",
       "      <td>Favorite Training and reward treat</td>\n",
       "      <td>These are the BEST treats for training and rew...</td>\n",
       "    </tr>\n",
       "    <tr>\n",
       "      <th>568453</th>\n",
       "      <td>568454</td>\n",
       "      <td>B001LR2CU2</td>\n",
       "      <td>A3LGQPJCZVL9UC</td>\n",
       "      <td>srfell17</td>\n",
       "      <td>0</td>\n",
       "      <td>0</td>\n",
       "      <td>5</td>\n",
       "      <td>1338422400</td>\n",
       "      <td>Great Honey</td>\n",
       "      <td>I am very satisfied ,product is as advertised,...</td>\n",
       "    </tr>\n",
       "  </tbody>\n",
       "</table>\n",
       "</div>"
      ],
      "text/plain": [
       "            Id   ProductId          UserId              ProfileName  \\\n",
       "568449  568450  B001EO7N10  A28KG5XORO54AY         Lettie D. Carter   \n",
       "568450  568451  B003S1WTCU  A3I8AFVPEE8KI5                R. Sawyer   \n",
       "568451  568452  B004I613EE  A121AA1GQV751Z            pksd \"pk_007\"   \n",
       "568452  568453  B004I613EE   A3IBEVCTXKNOH  Kathy A. Welch \"katwel\"   \n",
       "568453  568454  B001LR2CU2  A3LGQPJCZVL9UC                 srfell17   \n",
       "\n",
       "        HelpfulnessNumerator  HelpfulnessDenominator  Score        Time  \\\n",
       "568449                     0                       0      5  1299628800   \n",
       "568450                     0                       0      2  1331251200   \n",
       "568451                     2                       2      5  1329782400   \n",
       "568452                     1                       1      5  1331596800   \n",
       "568453                     0                       0      5  1338422400   \n",
       "\n",
       "                                   Summary  \\\n",
       "568449                 Will not do without   \n",
       "568450                        disappointed   \n",
       "568451            Perfect for our maltipoo   \n",
       "568452  Favorite Training and reward treat   \n",
       "568453                         Great Honey   \n",
       "\n",
       "                                                     Text  \n",
       "568449  Great for sesame chicken..this is a good if no...  \n",
       "568450  I'm disappointed with the flavor. The chocolat...  \n",
       "568451  These stars are small, so you can give 10-15 o...  \n",
       "568452  These are the BEST treats for training and rew...  \n",
       "568453  I am very satisfied ,product is as advertised,...  "
      ]
     },
     "execution_count": 5,
     "metadata": {},
     "output_type": "execute_result"
    }
   ],
   "source": [
    "df.tail()"
   ]
  },
  {
   "cell_type": "code",
   "execution_count": 6,
   "id": "c0a2f22c-a848-4022-a575-830ecfd68289",
   "metadata": {},
   "outputs": [
    {
     "data": {
      "text/plain": [
       "Index(['Id', 'ProductId', 'UserId', 'ProfileName', 'HelpfulnessNumerator',\n",
       "       'HelpfulnessDenominator', 'Score', 'Time', 'Summary', 'Text'],\n",
       "      dtype='object')"
      ]
     },
     "execution_count": 6,
     "metadata": {},
     "output_type": "execute_result"
    }
   ],
   "source": [
    "df.columns"
   ]
  },
  {
   "cell_type": "markdown",
   "id": "54f728bb-b26e-40f6-b794-cda830633a83",
   "metadata": {},
   "source": [
    "all columns in df"
   ]
  },
  {
   "cell_type": "code",
   "execution_count": 7,
   "id": "2b0040df-c215-46b4-8ce0-42a841e730f8",
   "metadata": {},
   "outputs": [
    {
     "data": {
      "text/plain": [
       "Id                         int64\n",
       "ProductId                 object\n",
       "UserId                    object\n",
       "ProfileName               object\n",
       "HelpfulnessNumerator       int64\n",
       "HelpfulnessDenominator     int64\n",
       "Score                      int64\n",
       "Time                       int64\n",
       "Summary                   object\n",
       "Text                      object\n",
       "dtype: object"
      ]
     },
     "execution_count": 7,
     "metadata": {},
     "output_type": "execute_result"
    }
   ],
   "source": [
    "df.dtypes"
   ]
  },
  {
   "cell_type": "markdown",
   "id": "dad3cc52-e693-4e76-b4f5-0614167f0aa5",
   "metadata": {},
   "source": [
    "variables types of columns"
   ]
  },
  {
   "cell_type": "code",
   "execution_count": 8,
   "id": "6adb8f63-46be-4a35-a5ce-5fd7c87f4568",
   "metadata": {},
   "outputs": [
    {
     "data": {
      "text/html": [
       "<div>\n",
       "<style scoped>\n",
       "    .dataframe tbody tr th:only-of-type {\n",
       "        vertical-align: middle;\n",
       "    }\n",
       "\n",
       "    .dataframe tbody tr th {\n",
       "        vertical-align: top;\n",
       "    }\n",
       "\n",
       "    .dataframe thead th {\n",
       "        text-align: right;\n",
       "    }\n",
       "</style>\n",
       "<table border=\"1\" class=\"dataframe\">\n",
       "  <thead>\n",
       "    <tr style=\"text-align: right;\">\n",
       "      <th></th>\n",
       "      <th>count</th>\n",
       "      <th>mean</th>\n",
       "      <th>std</th>\n",
       "      <th>min</th>\n",
       "      <th>25%</th>\n",
       "      <th>50%</th>\n",
       "      <th>75%</th>\n",
       "      <th>max</th>\n",
       "    </tr>\n",
       "  </thead>\n",
       "  <tbody>\n",
       "    <tr>\n",
       "      <th>Id</th>\n",
       "      <td>568454.0</td>\n",
       "      <td>2.842275e+05</td>\n",
       "      <td>1.640987e+05</td>\n",
       "      <td>1.0</td>\n",
       "      <td>1.421142e+05</td>\n",
       "      <td>2.842275e+05</td>\n",
       "      <td>4.263408e+05</td>\n",
       "      <td>5.684540e+05</td>\n",
       "    </tr>\n",
       "    <tr>\n",
       "      <th>HelpfulnessNumerator</th>\n",
       "      <td>568454.0</td>\n",
       "      <td>1.743817e+00</td>\n",
       "      <td>7.636513e+00</td>\n",
       "      <td>0.0</td>\n",
       "      <td>0.000000e+00</td>\n",
       "      <td>0.000000e+00</td>\n",
       "      <td>2.000000e+00</td>\n",
       "      <td>8.660000e+02</td>\n",
       "    </tr>\n",
       "    <tr>\n",
       "      <th>HelpfulnessDenominator</th>\n",
       "      <td>568454.0</td>\n",
       "      <td>2.228810e+00</td>\n",
       "      <td>8.289740e+00</td>\n",
       "      <td>0.0</td>\n",
       "      <td>0.000000e+00</td>\n",
       "      <td>1.000000e+00</td>\n",
       "      <td>2.000000e+00</td>\n",
       "      <td>9.230000e+02</td>\n",
       "    </tr>\n",
       "    <tr>\n",
       "      <th>Score</th>\n",
       "      <td>568454.0</td>\n",
       "      <td>4.183199e+00</td>\n",
       "      <td>1.310436e+00</td>\n",
       "      <td>1.0</td>\n",
       "      <td>4.000000e+00</td>\n",
       "      <td>5.000000e+00</td>\n",
       "      <td>5.000000e+00</td>\n",
       "      <td>5.000000e+00</td>\n",
       "    </tr>\n",
       "    <tr>\n",
       "      <th>Time</th>\n",
       "      <td>568454.0</td>\n",
       "      <td>1.296257e+09</td>\n",
       "      <td>4.804331e+07</td>\n",
       "      <td>939340800.0</td>\n",
       "      <td>1.271290e+09</td>\n",
       "      <td>1.311120e+09</td>\n",
       "      <td>1.332720e+09</td>\n",
       "      <td>1.351210e+09</td>\n",
       "    </tr>\n",
       "  </tbody>\n",
       "</table>\n",
       "</div>"
      ],
      "text/plain": [
       "                           count          mean           std          min  \\\n",
       "Id                      568454.0  2.842275e+05  1.640987e+05          1.0   \n",
       "HelpfulnessNumerator    568454.0  1.743817e+00  7.636513e+00          0.0   \n",
       "HelpfulnessDenominator  568454.0  2.228810e+00  8.289740e+00          0.0   \n",
       "Score                   568454.0  4.183199e+00  1.310436e+00          1.0   \n",
       "Time                    568454.0  1.296257e+09  4.804331e+07  939340800.0   \n",
       "\n",
       "                                 25%           50%           75%           max  \n",
       "Id                      1.421142e+05  2.842275e+05  4.263408e+05  5.684540e+05  \n",
       "HelpfulnessNumerator    0.000000e+00  0.000000e+00  2.000000e+00  8.660000e+02  \n",
       "HelpfulnessDenominator  0.000000e+00  1.000000e+00  2.000000e+00  9.230000e+02  \n",
       "Score                   4.000000e+00  5.000000e+00  5.000000e+00  5.000000e+00  \n",
       "Time                    1.271290e+09  1.311120e+09  1.332720e+09  1.351210e+09  "
      ]
     },
     "execution_count": 8,
     "metadata": {},
     "output_type": "execute_result"
    }
   ],
   "source": [
    "df.describe().T"
   ]
  },
  {
   "cell_type": "markdown",
   "id": "8c5990fa-f665-488b-8875-44ce00f419bb",
   "metadata": {},
   "source": [
    "basic statistics of our dataset"
   ]
  },
  {
   "cell_type": "code",
   "execution_count": 9,
   "id": "df8b5cf7-17b4-40e8-ae4f-c301ef7b4a9e",
   "metadata": {},
   "outputs": [
    {
     "data": {
      "text/plain": [
       "'I have bought several of the Vitality canned dog food products and have found them all to be of good quality. The product looks more like a stew than a processed meat and it smells better. My Labrador is finicky and she appreciates this product better than  most.'"
      ]
     },
     "execution_count": 9,
     "metadata": {},
     "output_type": "execute_result"
    }
   ],
   "source": [
    "df[\"Text\"][0]"
   ]
  },
  {
   "cell_type": "markdown",
   "id": "17c7cf0f-a49a-47e8-8ff2-6436ddca8f1d",
   "metadata": {},
   "source": [
    "an example of review. It has stopwords and punctuation marks."
   ]
  },
  {
   "cell_type": "code",
   "execution_count": 10,
   "id": "869906d9-ec03-483e-94f6-e959a0c71467",
   "metadata": {},
   "outputs": [
    {
     "data": {
      "text/plain": [
       "'I bought these for my husband who is currently overseas. He loves these, and apparently his staff likes them also.<br />There are generous amounts of Twizzlers in each 16-ounce bag, and this was well worth the price. <a href=\"http://www.amazon.com/gp/product/B001GVISJM\">Twizzlers, Strawberry, 16-Ounce Bags (Pack of 6)</a>'"
      ]
     },
     "execution_count": 10,
     "metadata": {},
     "output_type": "execute_result"
    }
   ],
   "source": [
    "df[\"Text\"][21]"
   ]
  },
  {
   "cell_type": "markdown",
   "id": "66d79bde-7ca4-4b73-8f4e-56151dbba2ad",
   "metadata": {},
   "source": [
    "and it has numerical values that not necessary in sentiment analysis"
   ]
  },
  {
   "cell_type": "markdown",
   "id": "7678c3c7-89fb-4478-9b10-52d4b5946c3c",
   "metadata": {},
   "source": [
    "## STEP2: Data Preprocessing"
   ]
  },
  {
   "cell_type": "markdown",
   "id": "f225eb37-42fc-4873-9ba8-a4cc7010d53e",
   "metadata": {},
   "source": [
    "- Have information about null variables\n",
    "- Question the outliers\n",
    "- Catch duplicated rows\n",
    "- Prepare data to text processing"
   ]
  },
  {
   "cell_type": "markdown",
   "id": "8d12600c-078e-485a-b436-8d0e4cd8eff1",
   "metadata": {},
   "source": [
    "![STEPS](source/steps.jpg)"
   ]
  },
  {
   "cell_type": "markdown",
   "id": "7ebbe5bd-df9c-4dd8-9269-52ed7e8dda3b",
   "metadata": {},
   "source": [
    "### Missing Observation Analysis"
   ]
  },
  {
   "cell_type": "code",
   "execution_count": 11,
   "id": "93dda7eb-c1cd-495c-8cb2-74fc78d833ca",
   "metadata": {},
   "outputs": [
    {
     "data": {
      "text/plain": [
       "True"
      ]
     },
     "execution_count": 11,
     "metadata": {},
     "output_type": "execute_result"
    }
   ],
   "source": [
    "df.isnull().values.any()"
   ]
  },
  {
   "cell_type": "markdown",
   "id": "284bdf16-a09e-40eb-9fdf-3664c091794a",
   "metadata": {},
   "source": [
    "there is/are missing values"
   ]
  },
  {
   "cell_type": "code",
   "execution_count": 12,
   "id": "e5e19b3f-b3b7-49e9-853d-7534f342a967",
   "metadata": {},
   "outputs": [
    {
     "data": {
      "text/plain": [
       "Id                         0\n",
       "ProductId                  0\n",
       "UserId                     0\n",
       "ProfileName               16\n",
       "HelpfulnessNumerator       0\n",
       "HelpfulnessDenominator     0\n",
       "Score                      0\n",
       "Time                       0\n",
       "Summary                   27\n",
       "Text                       0\n",
       "dtype: int64"
      ]
     },
     "execution_count": 12,
     "metadata": {},
     "output_type": "execute_result"
    }
   ],
   "source": [
    "df.isnull().sum()"
   ]
  },
  {
   "cell_type": "markdown",
   "id": "4859d9fc-861b-4947-ab7e-4dfaadebbce6",
   "metadata": {},
   "source": [
    "we have empty values in ProfileName and summary (our process those are unnecessary)"
   ]
  },
  {
   "cell_type": "markdown",
   "id": "891adcb4-72ff-4302-a1be-5ac6c6459bec",
   "metadata": {},
   "source": [
    "totally 43 NaN values"
   ]
  },
  {
   "cell_type": "markdown",
   "id": "46a4a39a-1b46-42c1-9adb-dddd8deb3c08",
   "metadata": {},
   "source": [
    "### Visualization Missing Values"
   ]
  },
  {
   "cell_type": "code",
   "execution_count": 13,
   "id": "b69cf5f6-7033-4a90-a971-744c35cc3ac9",
   "metadata": {},
   "outputs": [],
   "source": [
    "import missingno as msno"
   ]
  },
  {
   "cell_type": "code",
   "execution_count": 14,
   "id": "ca3ae97b-83ec-4129-a57f-bab3ac5873fc",
   "metadata": {},
   "outputs": [
    {
     "data": {
      "image/png": "[encoded data removed]",
      "text/plain": [
       "<Figure size 720x360 with 3 Axes>"
      ]
     },
     "metadata": {},
     "output_type": "display_data"
    }
   ],
   "source": [
    "msno.bar(df, figsize=(10,5));"
   ]
  },
  {
   "cell_type": "markdown",
   "id": "eda9861a-37bb-451d-88c8-3acd8795f039",
   "metadata": {},
   "source": [
    "as you see in graph missing values are very few. It looks like there are no empty rows but we have"
   ]
  },
  {
   "cell_type": "markdown",
   "id": "956c0238-cdfc-45fa-b393-3fe3939b2b78",
   "metadata": {},
   "source": [
    "- IF I delete these empty values I lose every review text\n",
    "- so, I will not delete. I dont need them sentiment analysis"
   ]
  },
  {
   "cell_type": "markdown",
   "id": "49cd0154-a533-47c3-9b57-8c2b50764aa1",
   "metadata": {},
   "source": [
    "### Outlier Analysis"
   ]
  },
  {
   "cell_type": "code",
   "execution_count": 15,
   "id": "c6f718ee-f59f-48da-86e8-a842f26795f3",
   "metadata": {},
   "outputs": [
    {
     "data": {
      "image/png": "[encoded data removed]",
      "text/plain": [
       "<Figure size 432x288 with 1 Axes>"
      ]
     },
     "metadata": {},
     "output_type": "display_data"
    }
   ],
   "source": [
    "sns.boxplot(x=df[\"Score\"]);"
   ]
  },
  {
   "cell_type": "markdown",
   "id": "77887998-e978-4400-8c90-65c14bcba6c3",
   "metadata": {},
   "source": [
    "Score labels outliers. They do not looks outliers.\n",
    "- scores are group between 4-5\n",
    "- so hard that find outliers in df\n",
    "- that's all about datasets structure"
   ]
  },
  {
   "cell_type": "markdown",
   "id": "8e88c6bf-1b4c-490a-bb89-5b7f0abee7ba",
   "metadata": {},
   "source": [
    "### Duplicated Value Analysis"
   ]
  },
  {
   "cell_type": "code",
   "execution_count": 16,
   "id": "97f488c7-52c8-4e80-b0d1-9a17168ab815",
   "metadata": {},
   "outputs": [
    {
     "data": {
      "text/plain": [
       "0"
      ]
     },
     "execution_count": 16,
     "metadata": {},
     "output_type": "execute_result"
    }
   ],
   "source": [
    "df.duplicated().sum()"
   ]
  },
  {
   "cell_type": "markdown",
   "id": "b6f47f74-91f4-46ee-a318-99cc2a77b6e9",
   "metadata": {},
   "source": [
    "dulicated \"row\" count  "
   ]
  },
  {
   "cell_type": "code",
   "execution_count": 17,
   "id": "3a8faba9-a6e4-4db9-8c56-cde3df3c858c",
   "metadata": {},
   "outputs": [
    {
     "data": {
      "text/plain": [
       "272711"
      ]
     },
     "execution_count": 17,
     "metadata": {},
     "output_type": "execute_result"
    }
   ],
   "source": [
    "df[\"Summary\"].duplicated().sum()"
   ]
  },
  {
   "cell_type": "markdown",
   "id": "f6617992-4e41-4317-924c-aa4f81d8ed4c",
   "metadata": {},
   "source": [
    "## STEP3: Text Processing"
   ]
  },
  {
   "cell_type": "markdown",
   "id": "56c6d557-59a9-4b1d-a8c8-6ef59e21228a",
   "metadata": {},
   "source": [
    "- Focus on texts for processing\n",
    "- Convert text to pandas dataframe (that's useful)\n",
    "- Catch HTML tags and get rid of (in our case we don't need them)\n",
    "- Remove punctuation marks\n",
    "- Remove numeric values because those are not emotional\n",
    "- Get lower case text to implement stopword process\n",
    "- Remove stopwords\n",
    "- Lemmatization"
   ]
  },
  {
   "cell_type": "markdown",
   "id": "2a9e446c-5f88-4b7a-acab-046a4908c07b",
   "metadata": {},
   "source": [
    "![TEXT](source/text.jpg)"
   ]
  },
  {
   "cell_type": "markdown",
   "id": "24b79bba-98c1-4d7e-be15-4023a6bcc1cb",
   "metadata": {},
   "source": [
    "### Import Dependencies"
   ]
  },
  {
   "cell_type": "code",
   "execution_count": 18,
   "id": "71e0d163-a136-44dc-9813-9b3638812637",
   "metadata": {},
   "outputs": [],
   "source": [
    "import nltk\n",
    "from nltk.corpus import stopwords\n",
    "\n",
    "from textblob import TextBlob\n",
    "from textblob import Word\n",
    "\n",
    "from nltk.stem import PorterStemmer"
   ]
  },
  {
   "cell_type": "markdown",
   "id": "78707f25-965b-424d-b536-35d6907cf707",
   "metadata": {},
   "source": [
    "### Extract Text From Df"
   ]
  },
  {
   "cell_type": "code",
   "execution_count": 19,
   "id": "8e0f2682-bf8d-408f-96c3-852d5b9e6ec3",
   "metadata": {
    "tags": []
   },
   "outputs": [],
   "source": [
    "text = df[\"Text\"].copy()"
   ]
  },
  {
   "cell_type": "code",
   "execution_count": 20,
   "id": "e8fa4cd6-2159-4e77-9408-dcebe03b63bc",
   "metadata": {},
   "outputs": [
    {
     "data": {
      "text/plain": [
       "0    I have bought several of the Vitality canned d...\n",
       "1    Product arrived labeled as Jumbo Salted Peanut...\n",
       "2    This is a confection that has been around a fe...\n",
       "3    If you are looking for the secret ingredient i...\n",
       "4    Great taffy at a great price.  There was a wid...\n",
       "Name: Text, dtype: object"
      ]
     },
     "execution_count": 20,
     "metadata": {},
     "output_type": "execute_result"
    }
   ],
   "source": [
    "text.head()"
   ]
  },
  {
   "cell_type": "markdown",
   "id": "ab975a0a-07d7-468d-97b7-ccddb9c45820",
   "metadata": {},
   "source": [
    "### Vectorize Sentences"
   ]
  },
  {
   "cell_type": "code",
   "execution_count": 21,
   "id": "e8757b4c-0d05-4e09-aa8e-25e89d326ef6",
   "metadata": {},
   "outputs": [],
   "source": [
    "r = pd.Series(text)"
   ]
  },
  {
   "cell_type": "code",
   "execution_count": 22,
   "id": "c4c3fa7d-8709-4553-8524-7ea939ee791f",
   "metadata": {},
   "outputs": [],
   "source": [
    "reviews = pd.DataFrame(r)"
   ]
  },
  {
   "cell_type": "code",
   "execution_count": 23,
   "id": "903bd5f0-0ed3-466d-a2ee-45be96437c12",
   "metadata": {},
   "outputs": [
    {
     "data": {
      "text/html": [
       "<div>\n",
       "<style scoped>\n",
       "    .dataframe tbody tr th:only-of-type {\n",
       "        vertical-align: middle;\n",
       "    }\n",
       "\n",
       "    .dataframe tbody tr th {\n",
       "        vertical-align: top;\n",
       "    }\n",
       "\n",
       "    .dataframe thead th {\n",
       "        text-align: right;\n",
       "    }\n",
       "</style>\n",
       "<table border=\"1\" class=\"dataframe\">\n",
       "  <thead>\n",
       "    <tr style=\"text-align: right;\">\n",
       "      <th></th>\n",
       "      <th>Text</th>\n",
       "    </tr>\n",
       "  </thead>\n",
       "  <tbody>\n",
       "    <tr>\n",
       "      <th>0</th>\n",
       "      <td>I have bought several of the Vitality canned d...</td>\n",
       "    </tr>\n",
       "    <tr>\n",
       "      <th>1</th>\n",
       "      <td>Product arrived labeled as Jumbo Salted Peanut...</td>\n",
       "    </tr>\n",
       "    <tr>\n",
       "      <th>2</th>\n",
       "      <td>This is a confection that has been around a fe...</td>\n",
       "    </tr>\n",
       "    <tr>\n",
       "      <th>3</th>\n",
       "      <td>If you are looking for the secret ingredient i...</td>\n",
       "    </tr>\n",
       "    <tr>\n",
       "      <th>4</th>\n",
       "      <td>Great taffy at a great price.  There was a wid...</td>\n",
       "    </tr>\n",
       "  </tbody>\n",
       "</table>\n",
       "</div>"
      ],
      "text/plain": [
       "                                                Text\n",
       "0  I have bought several of the Vitality canned d...\n",
       "1  Product arrived labeled as Jumbo Salted Peanut...\n",
       "2  This is a confection that has been around a fe...\n",
       "3  If you are looking for the secret ingredient i...\n",
       "4  Great taffy at a great price.  There was a wid..."
      ]
     },
     "execution_count": 23,
     "metadata": {},
     "output_type": "execute_result"
    }
   ],
   "source": [
    "reviews.head()"
   ]
  },
  {
   "cell_type": "markdown",
   "id": "c5fc7476-8feb-4095-95ca-a91364cfcdef",
   "metadata": {},
   "source": [
    "### Delete HTML Tags"
   ]
  },
  {
   "cell_type": "code",
   "execution_count": 24,
   "id": "13d1ae40-bbd8-4e6c-8471-3dc2e44aa124",
   "metadata": {},
   "outputs": [],
   "source": [
    "import re"
   ]
  },
  {
   "cell_type": "code",
   "execution_count": 25,
   "id": "dfa6829c-4190-4a6b-847a-fae01b6e6c2d",
   "metadata": {},
   "outputs": [
    {
     "data": {
      "text/plain": [
       "'I bought these for my husband who is currently overseas. He loves these, and apparently his staff likes them also.<br />There are generous amounts of Twizzlers in each 16-ounce bag, and this was well worth the price. <a href=\"http://www.amazon.com/gp/product/B001GVISJM\">Twizzlers, Strawberry, 16-Ounce Bags (Pack of 6)</a>'"
      ]
     },
     "execution_count": 25,
     "metadata": {},
     "output_type": "execute_result"
    }
   ],
   "source": [
    "reviews[\"Text\"][21]"
   ]
  },
  {
   "cell_type": "markdown",
   "id": "52899784-f827-4585-95fa-e055f08a86d2",
   "metadata": {},
   "source": [
    "there are html tags in text. useless for us."
   ]
  },
  {
   "cell_type": "code",
   "execution_count": 26,
   "id": "2d852658-cef1-4abe-a47e-e9b603794b67",
   "metadata": {},
   "outputs": [
    {
     "data": {
      "text/plain": [
       "'I bought these for my husband who is currently overseas. He loves these, and apparently his staff likes them also.There are generous amounts of Twizzlers in each 16-ounce bag, and this was well worth the price. Twizzlers, Strawberry, 16-Ounce Bags (Pack of 6)'"
      ]
     },
     "execution_count": 26,
     "metadata": {},
     "output_type": "execute_result"
    }
   ],
   "source": [
    "re.sub('<.*?>', '', reviews[\"Text\"][21])"
   ]
  },
  {
   "cell_type": "code",
   "execution_count": 27,
   "id": "ddad5550-9b59-49ba-aa40-3323f8343774",
   "metadata": {},
   "outputs": [
    {
     "data": {
      "text/plain": [
       "'Thank you for having this product available to be purchased on Amazon.com. PLEASE DO NOT DISCONTINUE THIS PRODUCT FROM this website. If so, please let me know immediately so that I can purchase these candies. Please do not give out my personal contact or credit card information to other companies, especially without my personal permission or authorization to do so.<br />I am not sure about how to do this or whether I am even doing this correctly. Please explain this to me in a simple way for me to understand about this review process and how it works.<br /><br />Anna Mae Gardner'"
      ]
     },
     "execution_count": 27,
     "metadata": {},
     "output_type": "execute_result"
    }
   ],
   "source": [
    "reviews[\"Text\"][220036]"
   ]
  },
  {
   "cell_type": "code",
   "execution_count": 28,
   "id": "cd71691e-8fba-46ca-8727-2a34ae33ece1",
   "metadata": {},
   "outputs": [
    {
     "data": {
      "text/plain": [
       "'Thank you for having this product available to be purchased on Amazon.com. PLEASE DO NOT DISCONTINUE THIS PRODUCT FROM this website. If so, please let me know immediately so that I can purchase these candies. Please do not give out my personal contact or credit card information to other companies, especially without my personal permission or authorization to do so.I am not sure about how to do this or whether I am even doing this correctly. Please explain this to me in a simple way for me to understand about this review process and how it works.Anna Mae Gardner'"
      ]
     },
     "execution_count": 28,
     "metadata": {},
     "output_type": "execute_result"
    }
   ],
   "source": [
    "re.sub('<.*?>','', reviews[\"Text\"][220036])"
   ]
  },
  {
   "cell_type": "markdown",
   "id": "fa77971a-19a4-4985-9452-4dbafe5a5e0c",
   "metadata": {},
   "source": [
    "#### Define Remove Function"
   ]
  },
  {
   "cell_type": "code",
   "execution_count": 29,
   "id": "58fff60e-514a-432d-8101-3b00f8aa571f",
   "metadata": {},
   "outputs": [],
   "source": [
    "def removeTags(string):\n",
    "    r = re.sub('<.*?>','', string)\n",
    "    return r"
   ]
  },
  {
   "cell_type": "code",
   "execution_count": 30,
   "id": "74cec1ff-194c-48ae-a4e2-ef5cffa1fe00",
   "metadata": {},
   "outputs": [
    {
     "data": {
      "text/plain": [
       "'Thank you for having this product available to be purchased on Amazon.com. PLEASE DO NOT DISCONTINUE THIS PRODUCT FROM this website. If so, please let me know immediately so that I can purchase these candies. Please do not give out my personal contact or credit card information to other companies, especially without my personal permission or authorization to do so.I am not sure about how to do this or whether I am even doing this correctly. Please explain this to me in a simple way for me to understand about this review process and how it works.Anna Mae Gardner'"
      ]
     },
     "execution_count": 30,
     "metadata": {},
     "output_type": "execute_result"
    }
   ],
   "source": [
    "removeTags(reviews[\"Text\"][220036])"
   ]
  },
  {
   "cell_type": "code",
   "execution_count": 31,
   "id": "4ccb74c4-6c64-4e3d-bac0-4f2f8aa237e9",
   "metadata": {},
   "outputs": [],
   "source": [
    "withoutTags = reviews[\"Text\"].apply(lambda x: removeTags(x))"
   ]
  },
  {
   "cell_type": "markdown",
   "id": "3b26e94a-6d48-4bcc-96d5-4ff5b8ff602c",
   "metadata": {},
   "source": [
    "apply all text"
   ]
  },
  {
   "cell_type": "code",
   "execution_count": 32,
   "id": "2f1d89a8-fe51-43ea-b201-6ece3dc40c98",
   "metadata": {},
   "outputs": [],
   "source": [
    "reviews = pd.DataFrame(withoutTags)"
   ]
  },
  {
   "cell_type": "code",
   "execution_count": 33,
   "id": "c2df19b4-52e8-4832-a7ed-5badcf4f388d",
   "metadata": {},
   "outputs": [
    {
     "data": {
      "text/plain": [
       "'I bought these for my husband who is currently overseas. He loves these, and apparently his staff likes them also.There are generous amounts of Twizzlers in each 16-ounce bag, and this was well worth the price. Twizzlers, Strawberry, 16-Ounce Bags (Pack of 6)'"
      ]
     },
     "execution_count": 33,
     "metadata": {},
     "output_type": "execute_result"
    }
   ],
   "source": [
    "reviews[\"Text\"][21]"
   ]
  },
  {
   "cell_type": "code",
   "execution_count": 34,
   "id": "08575685-5358-41fd-9457-6b082d23d3d8",
   "metadata": {},
   "outputs": [
    {
     "data": {
      "text/plain": [
       "'Thank you for having this product available to be purchased on Amazon.com. PLEASE DO NOT DISCONTINUE THIS PRODUCT FROM this website. If so, please let me know immediately so that I can purchase these candies. Please do not give out my personal contact or credit card information to other companies, especially without my personal permission or authorization to do so.I am not sure about how to do this or whether I am even doing this correctly. Please explain this to me in a simple way for me to understand about this review process and how it works.Anna Mae Gardner'"
      ]
     },
     "execution_count": 34,
     "metadata": {},
     "output_type": "execute_result"
    }
   ],
   "source": [
    "reviews[\"Text\"][220036]"
   ]
  },
  {
   "cell_type": "markdown",
   "id": "e098f650-5021-4df4-8ce3-7ec8ddfc97f3",
   "metadata": {},
   "source": [
    "### Delete Numerical Values"
   ]
  },
  {
   "cell_type": "code",
   "execution_count": 35,
   "id": "4b825048-a1ee-40bc-93be-e4507ffe0a5f",
   "metadata": {},
   "outputs": [],
   "source": [
    "removeNumerics = reviews[\"Text\"].str.replace(\"\\d\",\"\")"
   ]
  },
  {
   "cell_type": "code",
   "execution_count": 36,
   "id": "7217e614-3900-4649-8613-b7f1421f16e1",
   "metadata": {},
   "outputs": [
    {
     "data": {
      "text/plain": [
       "568449    Great for sesame chicken..this is a good if no...\n",
       "568450    I'm disappointed with the flavor. The chocolat...\n",
       "568451    These stars are small, so you can give - of th...\n",
       "568452    These are the BEST treats for training and rew...\n",
       "568453    I am very satisfied ,product is as advertised,...\n",
       "Name: Text, dtype: object"
      ]
     },
     "execution_count": 36,
     "metadata": {},
     "output_type": "execute_result"
    }
   ],
   "source": [
    "removeNumerics.tail()"
   ]
  },
  {
   "cell_type": "code",
   "execution_count": 37,
   "id": "eef041f1-aeaf-4fa0-a8ad-a897fca46fc0",
   "metadata": {},
   "outputs": [],
   "source": [
    "reviews = pd.DataFrame(removeNumerics)"
   ]
  },
  {
   "cell_type": "code",
   "execution_count": 38,
   "id": "970fb3a7-a9fc-45c2-b69d-7bc9b8cad766",
   "metadata": {},
   "outputs": [
    {
     "data": {
      "text/html": [
       "<div>\n",
       "<style scoped>\n",
       "    .dataframe tbody tr th:only-of-type {\n",
       "        vertical-align: middle;\n",
       "    }\n",
       "\n",
       "    .dataframe tbody tr th {\n",
       "        vertical-align: top;\n",
       "    }\n",
       "\n",
       "    .dataframe thead th {\n",
       "        text-align: right;\n",
       "    }\n",
       "</style>\n",
       "<table border=\"1\" class=\"dataframe\">\n",
       "  <thead>\n",
       "    <tr style=\"text-align: right;\">\n",
       "      <th></th>\n",
       "      <th>Text</th>\n",
       "    </tr>\n",
       "  </thead>\n",
       "  <tbody>\n",
       "    <tr>\n",
       "      <th>568449</th>\n",
       "      <td>Great for sesame chicken..this is a good if no...</td>\n",
       "    </tr>\n",
       "    <tr>\n",
       "      <th>568450</th>\n",
       "      <td>I'm disappointed with the flavor. The chocolat...</td>\n",
       "    </tr>\n",
       "    <tr>\n",
       "      <th>568451</th>\n",
       "      <td>These stars are small, so you can give - of th...</td>\n",
       "    </tr>\n",
       "    <tr>\n",
       "      <th>568452</th>\n",
       "      <td>These are the BEST treats for training and rew...</td>\n",
       "    </tr>\n",
       "    <tr>\n",
       "      <th>568453</th>\n",
       "      <td>I am very satisfied ,product is as advertised,...</td>\n",
       "    </tr>\n",
       "  </tbody>\n",
       "</table>\n",
       "</div>"
      ],
      "text/plain": [
       "                                                     Text\n",
       "568449  Great for sesame chicken..this is a good if no...\n",
       "568450  I'm disappointed with the flavor. The chocolat...\n",
       "568451  These stars are small, so you can give - of th...\n",
       "568452  These are the BEST treats for training and rew...\n",
       "568453  I am very satisfied ,product is as advertised,..."
      ]
     },
     "execution_count": 38,
     "metadata": {},
     "output_type": "execute_result"
    }
   ],
   "source": [
    "reviews.tail()"
   ]
  },
  {
   "cell_type": "markdown",
   "id": "59a1eb3d-4865-48ac-9935-7a6bb2619833",
   "metadata": {},
   "source": [
    "### Uppercase / Lowercase"
   ]
  },
  {
   "cell_type": "markdown",
   "id": "0f89a09b-3905-4442-8a99-0452c078f5f6",
   "metadata": {},
   "source": [
    "- Elimination of differences between texts"
   ]
  },
  {
   "cell_type": "code",
   "execution_count": 39,
   "id": "b8f50559-6b75-4101-b810-e75f7e369445",
   "metadata": {},
   "outputs": [
    {
     "data": {
      "text/plain": [
       "0         i have bought several of the vitality canned d...\n",
       "1         product arrived labeled as jumbo salted peanut...\n",
       "2         this is a confection that has been around a fe...\n",
       "3         if you are looking for the secret ingredient i...\n",
       "4         great taffy at a great price. there was a wide...\n",
       "                                ...                        \n",
       "568449    great for sesame chicken..this is a good if no...\n",
       "568450    i'm disappointed with the flavor. the chocolat...\n",
       "568451    these stars are small, so you can give - of th...\n",
       "568452    these are the best treats for training and rew...\n",
       "568453    i am very satisfied ,product is as advertised,...\n",
       "Name: Text, Length: 568454, dtype: object"
      ]
     },
     "execution_count": 39,
     "metadata": {},
     "output_type": "execute_result"
    }
   ],
   "source": [
    "reviews[\"Text\"].apply(lambda x: \" \".join(x.lower() for x in x.split()))"
   ]
  },
  {
   "cell_type": "code",
   "execution_count": 40,
   "id": "7fdadf40-dbfc-47cd-871a-2f08422638f3",
   "metadata": {},
   "outputs": [],
   "source": [
    "toLower = reviews[\"Text\"].apply(lambda x: \" \".join(x.lower() for x in x.split()))"
   ]
  },
  {
   "cell_type": "code",
   "execution_count": 41,
   "id": "51388dcc-05ec-4380-bd96-4144c6142bf7",
   "metadata": {},
   "outputs": [
    {
     "data": {
      "text/html": [
       "<div>\n",
       "<style scoped>\n",
       "    .dataframe tbody tr th:only-of-type {\n",
       "        vertical-align: middle;\n",
       "    }\n",
       "\n",
       "    .dataframe tbody tr th {\n",
       "        vertical-align: top;\n",
       "    }\n",
       "\n",
       "    .dataframe thead th {\n",
       "        text-align: right;\n",
       "    }\n",
       "</style>\n",
       "<table border=\"1\" class=\"dataframe\">\n",
       "  <thead>\n",
       "    <tr style=\"text-align: right;\">\n",
       "      <th></th>\n",
       "      <th>Text</th>\n",
       "    </tr>\n",
       "  </thead>\n",
       "  <tbody>\n",
       "    <tr>\n",
       "      <th>0</th>\n",
       "      <td>i have bought several of the vitality canned d...</td>\n",
       "    </tr>\n",
       "    <tr>\n",
       "      <th>1</th>\n",
       "      <td>product arrived labeled as jumbo salted peanut...</td>\n",
       "    </tr>\n",
       "    <tr>\n",
       "      <th>2</th>\n",
       "      <td>this is a confection that has been around a fe...</td>\n",
       "    </tr>\n",
       "    <tr>\n",
       "      <th>3</th>\n",
       "      <td>if you are looking for the secret ingredient i...</td>\n",
       "    </tr>\n",
       "    <tr>\n",
       "      <th>4</th>\n",
       "      <td>great taffy at a great price. there was a wide...</td>\n",
       "    </tr>\n",
       "  </tbody>\n",
       "</table>\n",
       "</div>"
      ],
      "text/plain": [
       "                                                Text\n",
       "0  i have bought several of the vitality canned d...\n",
       "1  product arrived labeled as jumbo salted peanut...\n",
       "2  this is a confection that has been around a fe...\n",
       "3  if you are looking for the secret ingredient i...\n",
       "4  great taffy at a great price. there was a wide..."
      ]
     },
     "execution_count": 41,
     "metadata": {},
     "output_type": "execute_result"
    }
   ],
   "source": [
    "reviews = pd.DataFrame(toLower)\n",
    "reviews.head()"
   ]
  },
  {
   "cell_type": "markdown",
   "id": "57fff7eb-34b2-477a-83ae-3438c2b3474a",
   "metadata": {},
   "source": [
    "### Stopwords"
   ]
  },
  {
   "cell_type": "markdown",
   "id": "37037748-7f7d-487a-ba32-5fd66e8caad0",
   "metadata": {},
   "source": [
    "- Stop words are basically a set of commonly used words in any language\n",
    "- Every language has stopwords\n",
    "\n",
    "\n",
    "- Determiners: Determiners tend to mark nouns where a determiner usually will be followed by a noun (the, a, an, another)\n",
    "- Coordinating conjunctions: Coordinating conjunctions connect words, phrases, and clauses (for, an, nor, but, or, yet, so)\n",
    "- Prepositions: Prepositions express temporal or spatial relations (in, under, towards, before)\n",
    "\n",
    "\n",
    "- All of them not represents emotions\n",
    "- We not interest none emotional words or marks\n",
    "\n",
    "The reason why stop words are critical to many applications is that, if we remove the words that are very commonly used in a given language, we can focus on the important words instead."
   ]
  },
  {
   "cell_type": "code",
   "execution_count": 42,
   "id": "db7f74bd-06f0-4fc4-b15f-e981aec65e2c",
   "metadata": {},
   "outputs": [],
   "source": [
    "sw = stopwords.words('english')"
   ]
  },
  {
   "cell_type": "code",
   "execution_count": 43,
   "id": "7d25ad16-9f39-4ca7-a9f0-e68239e3d079",
   "metadata": {
    "tags": []
   },
   "outputs": [
    {
     "data": {
      "text/plain": [
       "['i', 'me', 'my', 'myself', 'we']"
      ]
     },
     "execution_count": 43,
     "metadata": {},
     "output_type": "execute_result"
    }
   ],
   "source": [
    "sw[:5]"
   ]
  },
  {
   "cell_type": "code",
   "execution_count": 44,
   "id": "23915b28-18bc-4137-96dd-1b607dbebd1d",
   "metadata": {},
   "outputs": [
    {
     "data": {
      "text/plain": [
       "0         bought several vitality canned dog food produc...\n",
       "1         product arrived labeled jumbo salted peanuts.....\n",
       "2         confection around centuries. light, pillowy ci...\n",
       "3         looking secret ingredient robitussin believe f...\n",
       "4         great taffy great price. wide assortment yummy...\n",
       "                                ...                        \n",
       "568449    great sesame chicken..this good better restura...\n",
       "568450    i'm disappointed flavor. chocolate notes espec...\n",
       "568451    stars small, give - one training session. trie...\n",
       "568452    best treats training rewarding dog good groomi...\n",
       "568453    satisfied ,product advertised, use cereal, raw...\n",
       "Name: Text, Length: 568454, dtype: object"
      ]
     },
     "execution_count": 44,
     "metadata": {},
     "output_type": "execute_result"
    }
   ],
   "source": [
    "reviews[\"Text\"].apply(lambda x: \" \".join(x for x in x.split() if x not in sw))"
   ]
  },
  {
   "cell_type": "code",
   "execution_count": 45,
   "id": "8b8b8531-3685-434a-86dd-bc0ed653797f",
   "metadata": {},
   "outputs": [],
   "source": [
    "withoutSW = reviews[\"Text\"].apply(lambda x: \" \".join(x for x in x.split() if x not in sw))"
   ]
  },
  {
   "cell_type": "code",
   "execution_count": 46,
   "id": "8a03089a-be5a-44ac-8e1f-827ad20b6f64",
   "metadata": {},
   "outputs": [
    {
     "data": {
      "text/html": [
       "<div>\n",
       "<style scoped>\n",
       "    .dataframe tbody tr th:only-of-type {\n",
       "        vertical-align: middle;\n",
       "    }\n",
       "\n",
       "    .dataframe tbody tr th {\n",
       "        vertical-align: top;\n",
       "    }\n",
       "\n",
       "    .dataframe thead th {\n",
       "        text-align: right;\n",
       "    }\n",
       "</style>\n",
       "<table border=\"1\" class=\"dataframe\">\n",
       "  <thead>\n",
       "    <tr style=\"text-align: right;\">\n",
       "      <th></th>\n",
       "      <th>Text</th>\n",
       "    </tr>\n",
       "  </thead>\n",
       "  <tbody>\n",
       "    <tr>\n",
       "      <th>0</th>\n",
       "      <td>bought several vitality canned dog food produc...</td>\n",
       "    </tr>\n",
       "    <tr>\n",
       "      <th>1</th>\n",
       "      <td>product arrived labeled jumbo salted peanuts.....</td>\n",
       "    </tr>\n",
       "    <tr>\n",
       "      <th>2</th>\n",
       "      <td>confection around centuries. light, pillowy ci...</td>\n",
       "    </tr>\n",
       "    <tr>\n",
       "      <th>3</th>\n",
       "      <td>looking secret ingredient robitussin believe f...</td>\n",
       "    </tr>\n",
       "    <tr>\n",
       "      <th>4</th>\n",
       "      <td>great taffy great price. wide assortment yummy...</td>\n",
       "    </tr>\n",
       "  </tbody>\n",
       "</table>\n",
       "</div>"
      ],
      "text/plain": [
       "                                                Text\n",
       "0  bought several vitality canned dog food produc...\n",
       "1  product arrived labeled jumbo salted peanuts.....\n",
       "2  confection around centuries. light, pillowy ci...\n",
       "3  looking secret ingredient robitussin believe f...\n",
       "4  great taffy great price. wide assortment yummy..."
      ]
     },
     "execution_count": 46,
     "metadata": {},
     "output_type": "execute_result"
    }
   ],
   "source": [
    "reviews = pd.DataFrame(withoutSW)\n",
    "reviews.head()"
   ]
  },
  {
   "cell_type": "markdown",
   "id": "3f14165b-b8f2-40c2-b9f3-6040f28e81b1",
   "metadata": {
    "tags": []
   },
   "source": [
    "### Delete Punctuation Marks"
   ]
  },
  {
   "cell_type": "code",
   "execution_count": 47,
   "id": "a7f0de47-8931-4698-b30c-21aba85b8259",
   "metadata": {},
   "outputs": [
    {
     "data": {
      "text/html": [
       "<div>\n",
       "<style scoped>\n",
       "    .dataframe tbody tr th:only-of-type {\n",
       "        vertical-align: middle;\n",
       "    }\n",
       "\n",
       "    .dataframe tbody tr th {\n",
       "        vertical-align: top;\n",
       "    }\n",
       "\n",
       "    .dataframe thead th {\n",
       "        text-align: right;\n",
       "    }\n",
       "</style>\n",
       "<table border=\"1\" class=\"dataframe\">\n",
       "  <thead>\n",
       "    <tr style=\"text-align: right;\">\n",
       "      <th></th>\n",
       "      <th>Text</th>\n",
       "    </tr>\n",
       "  </thead>\n",
       "  <tbody>\n",
       "    <tr>\n",
       "      <th>0</th>\n",
       "      <td>bought several vitality canned dog food produc...</td>\n",
       "    </tr>\n",
       "    <tr>\n",
       "      <th>1</th>\n",
       "      <td>product arrived labeled jumbo salted peanuts.....</td>\n",
       "    </tr>\n",
       "    <tr>\n",
       "      <th>2</th>\n",
       "      <td>confection around centuries. light, pillowy ci...</td>\n",
       "    </tr>\n",
       "    <tr>\n",
       "      <th>3</th>\n",
       "      <td>looking secret ingredient robitussin believe f...</td>\n",
       "    </tr>\n",
       "    <tr>\n",
       "      <th>4</th>\n",
       "      <td>great taffy great price. wide assortment yummy...</td>\n",
       "    </tr>\n",
       "  </tbody>\n",
       "</table>\n",
       "</div>"
      ],
      "text/plain": [
       "                                                Text\n",
       "0  bought several vitality canned dog food produc...\n",
       "1  product arrived labeled jumbo salted peanuts.....\n",
       "2  confection around centuries. light, pillowy ci...\n",
       "3  looking secret ingredient robitussin believe f...\n",
       "4  great taffy great price. wide assortment yummy..."
      ]
     },
     "execution_count": 47,
     "metadata": {},
     "output_type": "execute_result"
    }
   ],
   "source": [
    "reviews.head()"
   ]
  },
  {
   "cell_type": "code",
   "execution_count": 48,
   "id": "8ce876b2-2b22-4711-9be5-0954ea1fdd59",
   "metadata": {},
   "outputs": [
    {
     "data": {
      "text/html": [
       "<div>\n",
       "<style scoped>\n",
       "    .dataframe tbody tr th:only-of-type {\n",
       "        vertical-align: middle;\n",
       "    }\n",
       "\n",
       "    .dataframe tbody tr th {\n",
       "        vertical-align: top;\n",
       "    }\n",
       "\n",
       "    .dataframe thead th {\n",
       "        text-align: right;\n",
       "    }\n",
       "</style>\n",
       "<table border=\"1\" class=\"dataframe\">\n",
       "  <thead>\n",
       "    <tr style=\"text-align: right;\">\n",
       "      <th></th>\n",
       "      <th>Text</th>\n",
       "    </tr>\n",
       "  </thead>\n",
       "  <tbody>\n",
       "    <tr>\n",
       "      <th>568449</th>\n",
       "      <td>great sesame chicken..this good better restura...</td>\n",
       "    </tr>\n",
       "    <tr>\n",
       "      <th>568450</th>\n",
       "      <td>i'm disappointed flavor. chocolate notes espec...</td>\n",
       "    </tr>\n",
       "    <tr>\n",
       "      <th>568451</th>\n",
       "      <td>stars small, give - one training session. trie...</td>\n",
       "    </tr>\n",
       "    <tr>\n",
       "      <th>568452</th>\n",
       "      <td>best treats training rewarding dog good groomi...</td>\n",
       "    </tr>\n",
       "    <tr>\n",
       "      <th>568453</th>\n",
       "      <td>satisfied ,product advertised, use cereal, raw...</td>\n",
       "    </tr>\n",
       "  </tbody>\n",
       "</table>\n",
       "</div>"
      ],
      "text/plain": [
       "                                                     Text\n",
       "568449  great sesame chicken..this good better restura...\n",
       "568450  i'm disappointed flavor. chocolate notes espec...\n",
       "568451  stars small, give - one training session. trie...\n",
       "568452  best treats training rewarding dog good groomi...\n",
       "568453  satisfied ,product advertised, use cereal, raw..."
      ]
     },
     "execution_count": 48,
     "metadata": {},
     "output_type": "execute_result"
    }
   ],
   "source": [
    "reviews.tail()"
   ]
  },
  {
   "cell_type": "code",
   "execution_count": 49,
   "id": "f45d4780-7922-4308-a41f-681f6c8e7b0c",
   "metadata": {
    "tags": []
   },
   "outputs": [],
   "source": [
    "removeMarks = reviews[\"Text\"].str.replace(\"[^\\w\\s]\",\"\")"
   ]
  },
  {
   "cell_type": "code",
   "execution_count": 50,
   "id": "293eb29a-7fbd-43fe-8a69-065d1db0c027",
   "metadata": {},
   "outputs": [
    {
     "data": {
      "text/plain": [
       "568449    great sesame chickenthis good better resturant...\n",
       "568450    im disappointed flavor chocolate notes especia...\n",
       "568451    stars small give  one training session tried t...\n",
       "568452    best treats training rewarding dog good groomi...\n",
       "568453    satisfied product advertised use cereal raw vi...\n",
       "Name: Text, dtype: object"
      ]
     },
     "execution_count": 50,
     "metadata": {},
     "output_type": "execute_result"
    }
   ],
   "source": [
    "removeMarks.tail()"
   ]
  },
  {
   "cell_type": "code",
   "execution_count": 51,
   "id": "be2bf366-49bb-4416-a01c-0943498ab6a2",
   "metadata": {},
   "outputs": [],
   "source": [
    "reviews = pd.DataFrame(removeMarks)"
   ]
  },
  {
   "cell_type": "code",
   "execution_count": 52,
   "id": "f84d8465-bbf6-4c27-9f37-ffe2a0a82986",
   "metadata": {},
   "outputs": [
    {
     "data": {
      "text/html": [
       "<div>\n",
       "<style scoped>\n",
       "    .dataframe tbody tr th:only-of-type {\n",
       "        vertical-align: middle;\n",
       "    }\n",
       "\n",
       "    .dataframe tbody tr th {\n",
       "        vertical-align: top;\n",
       "    }\n",
       "\n",
       "    .dataframe thead th {\n",
       "        text-align: right;\n",
       "    }\n",
       "</style>\n",
       "<table border=\"1\" class=\"dataframe\">\n",
       "  <thead>\n",
       "    <tr style=\"text-align: right;\">\n",
       "      <th></th>\n",
       "      <th>Text</th>\n",
       "    </tr>\n",
       "  </thead>\n",
       "  <tbody>\n",
       "    <tr>\n",
       "      <th>568449</th>\n",
       "      <td>great sesame chickenthis good better resturant...</td>\n",
       "    </tr>\n",
       "    <tr>\n",
       "      <th>568450</th>\n",
       "      <td>im disappointed flavor chocolate notes especia...</td>\n",
       "    </tr>\n",
       "    <tr>\n",
       "      <th>568451</th>\n",
       "      <td>stars small give  one training session tried t...</td>\n",
       "    </tr>\n",
       "    <tr>\n",
       "      <th>568452</th>\n",
       "      <td>best treats training rewarding dog good groomi...</td>\n",
       "    </tr>\n",
       "    <tr>\n",
       "      <th>568453</th>\n",
       "      <td>satisfied product advertised use cereal raw vi...</td>\n",
       "    </tr>\n",
       "  </tbody>\n",
       "</table>\n",
       "</div>"
      ],
      "text/plain": [
       "                                                     Text\n",
       "568449  great sesame chickenthis good better resturant...\n",
       "568450  im disappointed flavor chocolate notes especia...\n",
       "568451  stars small give  one training session tried t...\n",
       "568452  best treats training rewarding dog good groomi...\n",
       "568453  satisfied product advertised use cereal raw vi..."
      ]
     },
     "execution_count": 52,
     "metadata": {},
     "output_type": "execute_result"
    }
   ],
   "source": [
    "reviews.tail()"
   ]
  },
  {
   "cell_type": "markdown",
   "id": "5a60b90a-7f52-401e-a995-69abba1c00a4",
   "metadata": {},
   "source": [
    "### Remove Infrecuent Words"
   ]
  },
  {
   "cell_type": "code",
   "execution_count": 53,
   "id": "64df36d5-38e1-43e1-840b-73d8558eacbd",
   "metadata": {},
   "outputs": [],
   "source": [
    "infrequent = pd.Series(\" \".join(reviews[\"Text\"]).split()).value_counts()[-200000:]"
   ]
  },
  {
   "cell_type": "code",
   "execution_count": 54,
   "id": "7e7d2210-cbc8-4698-a720-1340aa5689aa",
   "metadata": {},
   "outputs": [
    {
     "data": {
      "text/plain": [
       "icesnow           2\n",
       "speakmmrammmrr    2\n",
       "availableboth     2\n",
       "twolegs           2\n",
       "barbequeing       2\n",
       "dtype: int64"
      ]
     },
     "execution_count": 54,
     "metadata": {},
     "output_type": "execute_result"
    }
   ],
   "source": [
    "infrequent.head()"
   ]
  },
  {
   "cell_type": "code",
   "execution_count": 55,
   "id": "201644db-ddfa-4682-9067-172ab350c85e",
   "metadata": {},
   "outputs": [
    {
     "data": {
      "text/plain": [
       "barehanded      1\n",
       "ocasionsi       1\n",
       "ctce            1\n",
       "appetizeradd    1\n",
       "nonlocal        1\n",
       "dtype: int64"
      ]
     },
     "execution_count": 55,
     "metadata": {},
     "output_type": "execute_result"
    }
   ],
   "source": [
    "infrequent.tail()"
   ]
  },
  {
   "cell_type": "code",
   "execution_count": 56,
   "id": "c6a3e321-723d-474c-b823-e285677b35e7",
   "metadata": {},
   "outputs": [
    {
     "data": {
      "text/plain": [
       "(200000,)"
      ]
     },
     "execution_count": 56,
     "metadata": {},
     "output_type": "execute_result"
    }
   ],
   "source": [
    "infrequent.shape"
   ]
  },
  {
   "cell_type": "code",
   "execution_count": 57,
   "id": "af9624cc-f761-4e29-99d0-6345ae7583fc",
   "metadata": {},
   "outputs": [],
   "source": [
    "frequent = reviews[\"Text\"].apply(lambda x: \" \".join(x for x in x.split() if x not in infrequent))"
   ]
  },
  {
   "cell_type": "code",
   "execution_count": 58,
   "id": "b5150bde-3e94-48c3-b723-0b1b38854d6f",
   "metadata": {},
   "outputs": [
    {
     "data": {
      "text/plain": [
       "0    bought several vitality canned dog food produc...\n",
       "1    product arrived labeled jumbo salted peanutsth...\n",
       "2    confection around centuries light pillowy citr...\n",
       "3    looking secret ingredient robitussin believe f...\n",
       "4    great taffy great price wide assortment yummy ...\n",
       "Name: Text, dtype: object"
      ]
     },
     "execution_count": 58,
     "metadata": {},
     "output_type": "execute_result"
    }
   ],
   "source": [
    "frequent.head()"
   ]
  },
  {
   "cell_type": "code",
   "execution_count": 59,
   "id": "48619662-b887-470a-972f-dad8a213a342",
   "metadata": {},
   "outputs": [],
   "source": [
    "reviews = pd.DataFrame(frequent)"
   ]
  },
  {
   "cell_type": "code",
   "execution_count": 60,
   "id": "52b6ba9e-5be1-4bb4-a61c-adb42da496b3",
   "metadata": {},
   "outputs": [
    {
     "data": {
      "text/html": [
       "<div>\n",
       "<style scoped>\n",
       "    .dataframe tbody tr th:only-of-type {\n",
       "        vertical-align: middle;\n",
       "    }\n",
       "\n",
       "    .dataframe tbody tr th {\n",
       "        vertical-align: top;\n",
       "    }\n",
       "\n",
       "    .dataframe thead th {\n",
       "        text-align: right;\n",
       "    }\n",
       "</style>\n",
       "<table border=\"1\" class=\"dataframe\">\n",
       "  <thead>\n",
       "    <tr style=\"text-align: right;\">\n",
       "      <th></th>\n",
       "      <th>Text</th>\n",
       "    </tr>\n",
       "  </thead>\n",
       "  <tbody>\n",
       "    <tr>\n",
       "      <th>0</th>\n",
       "      <td>bought several vitality canned dog food produc...</td>\n",
       "    </tr>\n",
       "    <tr>\n",
       "      <th>1</th>\n",
       "      <td>product arrived labeled jumbo salted peanutsth...</td>\n",
       "    </tr>\n",
       "    <tr>\n",
       "      <th>2</th>\n",
       "      <td>confection around centuries light pillowy citr...</td>\n",
       "    </tr>\n",
       "    <tr>\n",
       "      <th>3</th>\n",
       "      <td>looking secret ingredient robitussin believe f...</td>\n",
       "    </tr>\n",
       "    <tr>\n",
       "      <th>4</th>\n",
       "      <td>great taffy great price wide assortment yummy ...</td>\n",
       "    </tr>\n",
       "  </tbody>\n",
       "</table>\n",
       "</div>"
      ],
      "text/plain": [
       "                                                Text\n",
       "0  bought several vitality canned dog food produc...\n",
       "1  product arrived labeled jumbo salted peanutsth...\n",
       "2  confection around centuries light pillowy citr...\n",
       "3  looking secret ingredient robitussin believe f...\n",
       "4  great taffy great price wide assortment yummy ..."
      ]
     },
     "execution_count": 60,
     "metadata": {},
     "output_type": "execute_result"
    }
   ],
   "source": [
    "reviews.head()"
   ]
  },
  {
   "cell_type": "markdown",
   "id": "af88551c-3dcb-4ed2-a8a5-9b4dfe1971b5",
   "metadata": {},
   "source": [
    "### Lemmatization"
   ]
  },
  {
   "cell_type": "markdown",
   "id": "99f49fb6-72ea-4b7a-af54-b28b77057a02",
   "metadata": {},
   "source": [
    "- The purpose of lemmatization is same as that of stemming but overcomes the drawbacks of stemming. In stemming, for some words, it may not give may not give meaningful representation such as “Histori”. Here, lemmatization comes into picture as it gives meaningful word\n",
    "\n",
    "- Lemmatization takes more time as compared to stemming because it finds meaningful word/ representation"
   ]
  },
  {
   "cell_type": "code",
   "execution_count": 61,
   "id": "ba7c28f1-4c55-4d37-b96e-8737915acd5e",
   "metadata": {},
   "outputs": [],
   "source": [
    "lemmatized  = reviews[\"Text\"].apply(lambda x: \" \".join([Word(i).lemmatize() for i in x.split()]))"
   ]
  },
  {
   "cell_type": "code",
   "execution_count": 62,
   "id": "af0bd213-d147-4049-b8d3-8e9c929e1cfc",
   "metadata": {},
   "outputs": [
    {
     "data": {
      "text/plain": [
       "0    bought several vitality canned dog food produc...\n",
       "1    product arrived labeled jumbo salted peanutsth...\n",
       "2    confection around century light pillowy citrus...\n",
       "3    looking secret ingredient robitussin believe f...\n",
       "4    great taffy great price wide assortment yummy ...\n",
       "Name: Text, dtype: object"
      ]
     },
     "execution_count": 62,
     "metadata": {},
     "output_type": "execute_result"
    }
   ],
   "source": [
    "lemmatized.head()"
   ]
  },
  {
   "cell_type": "code",
   "execution_count": 63,
   "id": "dc20cbc2-03e8-4fb9-8c22-7924b7012b49",
   "metadata": {},
   "outputs": [
    {
     "data": {
      "text/plain": [
       "568449    great sesame chickenthis good better resturant...\n",
       "568450    im disappointed flavor chocolate note especial...\n",
       "568451    star small give one training session tried tra...\n",
       "568452    best treat training rewarding dog good groomin...\n",
       "568453    satisfied product advertised use cereal raw vi...\n",
       "Name: Text, dtype: object"
      ]
     },
     "execution_count": 63,
     "metadata": {},
     "output_type": "execute_result"
    }
   ],
   "source": [
    "lemmatized.tail()"
   ]
  },
  {
   "cell_type": "code",
   "execution_count": 64,
   "id": "335b0332-d891-4c2d-b479-1d68b0363afd",
   "metadata": {},
   "outputs": [
    {
     "data": {
      "text/plain": [
       "'thank product available purchased amazoncom please discontinue product website so please let know immediately purchase candy please give personal contact credit card information company especially without personal permission authorization soi sure whether even correctly please explain simple way understand review process mae gardner'"
      ]
     },
     "execution_count": 64,
     "metadata": {},
     "output_type": "execute_result"
    }
   ],
   "source": [
    "lemmatized[220036]"
   ]
  },
  {
   "cell_type": "code",
   "execution_count": 65,
   "id": "fbe1218e-be30-4a1a-8dc3-cc6721d25bd8",
   "metadata": {},
   "outputs": [
    {
     "data": {
      "text/plain": [
       "'thank product available purchased amazoncom please discontinue product website so please let know immediately purchase candies please give personal contact credit card information companies especially without personal permission authorization soi sure whether even correctly please explain simple way understand review process mae gardner'"
      ]
     },
     "execution_count": 65,
     "metadata": {},
     "output_type": "execute_result"
    }
   ],
   "source": [
    "reviews[\"Text\"][220036]"
   ]
  },
  {
   "cell_type": "code",
   "execution_count": 66,
   "id": "d9a3c8a4-3903-4566-b124-f2a91e1fca2a",
   "metadata": {},
   "outputs": [],
   "source": [
    "reviews = pd.DataFrame(lemmatized)"
   ]
  },
  {
   "cell_type": "code",
   "execution_count": 67,
   "id": "46b0a6f6-5de3-43d8-9138-41e77c93f3cc",
   "metadata": {},
   "outputs": [
    {
     "data": {
      "text/html": [
       "<div>\n",
       "<style scoped>\n",
       "    .dataframe tbody tr th:only-of-type {\n",
       "        vertical-align: middle;\n",
       "    }\n",
       "\n",
       "    .dataframe tbody tr th {\n",
       "        vertical-align: top;\n",
       "    }\n",
       "\n",
       "    .dataframe thead th {\n",
       "        text-align: right;\n",
       "    }\n",
       "</style>\n",
       "<table border=\"1\" class=\"dataframe\">\n",
       "  <thead>\n",
       "    <tr style=\"text-align: right;\">\n",
       "      <th></th>\n",
       "      <th>Text</th>\n",
       "    </tr>\n",
       "  </thead>\n",
       "  <tbody>\n",
       "    <tr>\n",
       "      <th>568449</th>\n",
       "      <td>great sesame chickenthis good better resturant...</td>\n",
       "    </tr>\n",
       "    <tr>\n",
       "      <th>568450</th>\n",
       "      <td>im disappointed flavor chocolate note especial...</td>\n",
       "    </tr>\n",
       "    <tr>\n",
       "      <th>568451</th>\n",
       "      <td>star small give one training session tried tra...</td>\n",
       "    </tr>\n",
       "    <tr>\n",
       "      <th>568452</th>\n",
       "      <td>best treat training rewarding dog good groomin...</td>\n",
       "    </tr>\n",
       "    <tr>\n",
       "      <th>568453</th>\n",
       "      <td>satisfied product advertised use cereal raw vi...</td>\n",
       "    </tr>\n",
       "  </tbody>\n",
       "</table>\n",
       "</div>"
      ],
      "text/plain": [
       "                                                     Text\n",
       "568449  great sesame chickenthis good better resturant...\n",
       "568450  im disappointed flavor chocolate note especial...\n",
       "568451  star small give one training session tried tra...\n",
       "568452  best treat training rewarding dog good groomin...\n",
       "568453  satisfied product advertised use cereal raw vi..."
      ]
     },
     "execution_count": 67,
     "metadata": {},
     "output_type": "execute_result"
    }
   ],
   "source": [
    "reviews.tail()"
   ]
  },
  {
   "cell_type": "markdown",
   "id": "d900385f-9df5-434f-862c-5ca6603728d1",
   "metadata": {},
   "source": [
    "there are 100.000 infrequent words here. this amount change what value I want"
   ]
  },
  {
   "cell_type": "markdown",
   "id": "6da2a2be-0e5d-4a06-9933-de1ce5cf0d9f",
   "metadata": {},
   "source": [
    "## STEP4: Feature Engineering"
   ]
  },
  {
   "cell_type": "markdown",
   "id": "42d85130-df17-4f17-9364-1f6751e4374a",
   "metadata": {},
   "source": [
    "### Part Of Speech Tagging"
   ]
  },
  {
   "cell_type": "markdown",
   "id": "7275c970-234d-4e7d-90c7-c429fc4ab958",
   "metadata": {},
   "source": [
    "![POS](source/pos.jpg)"
   ]
  },
  {
   "cell_type": "markdown",
   "id": "affa816c-43df-4db5-8891-c1df034337de",
   "metadata": {},
   "source": [
    "- POS is substructures of a sentence\n",
    "- prepositions, verbs, nouns, adjectives etc.."
   ]
  },
  {
   "cell_type": "code",
   "execution_count": 68,
   "id": "f3b06872-8908-43d6-88e5-486d8d2182f5",
   "metadata": {},
   "outputs": [],
   "source": [
    "from textblob import TextBlob"
   ]
  },
  {
   "cell_type": "code",
   "execution_count": 69,
   "id": "929030d4-56aa-42ca-9a33-6e08a16ba585",
   "metadata": {
    "collapsed": true,
    "jupyter": {
     "outputs_hidden": true
    },
    "tags": []
   },
   "outputs": [
    {
     "data": {
      "text/plain": [
       "[('bought', 'VBD'),\n",
       " ('several', 'JJ'),\n",
       " ('vitality', 'NN'),\n",
       " ('canned', 'VBD'),\n",
       " ('dog', 'JJ'),\n",
       " ('food', 'NN'),\n",
       " ('product', 'NN'),\n",
       " ('found', 'VBD'),\n",
       " ('good', 'JJ'),\n",
       " ('quality', 'NN'),\n",
       " ('product', 'NN'),\n",
       " ('look', 'NN'),\n",
       " ('like', 'IN'),\n",
       " ('stew', 'NNS'),\n",
       " ('processed', 'VBN'),\n",
       " ('meat', 'NN'),\n",
       " ('smell', 'NN'),\n",
       " ('better', 'RBR'),\n",
       " ('labrador', 'NN'),\n",
       " ('finicky', 'JJ'),\n",
       " ('appreciates', 'VBZ'),\n",
       " ('product', 'NN'),\n",
       " ('better', 'RBR'),\n",
       " ('most', 'RBS')]"
      ]
     },
     "execution_count": 69,
     "metadata": {},
     "output_type": "execute_result"
    }
   ],
   "source": [
    "TextBlob(reviews[\"Text\"][0]).tags"
   ]
  },
  {
   "cell_type": "code",
   "execution_count": 70,
   "id": "fa000442-6a23-4395-a9ec-33ebb7ba1b96",
   "metadata": {},
   "outputs": [
    {
     "data": {
      "text/plain": [
       "[('I', 'PRP'), ('am', 'VBP'), ('so', 'RB'), ('happy', 'JJ')]"
      ]
     },
     "execution_count": 70,
     "metadata": {},
     "output_type": "execute_result"
    }
   ],
   "source": [
    "TextBlob(\"I am so happy\").tags"
   ]
  },
  {
   "cell_type": "code",
   "execution_count": 71,
   "id": "71f509d7-9892-4d31-aacf-5ade585f8d24",
   "metadata": {},
   "outputs": [
    {
     "data": {
      "text/plain": [
       "[('so', 'RB'), ('I', 'PRP'), ('am', 'VBP'), ('happy', 'JJ')]"
      ]
     },
     "execution_count": 71,
     "metadata": {},
     "output_type": "execute_result"
    }
   ],
   "source": [
    "TextBlob(\"so I am happy\").tags"
   ]
  },
  {
   "cell_type": "markdown",
   "id": "4fdd047e-06d2-424e-be44-63ed580304d6",
   "metadata": {},
   "source": [
    "### Named Entity Recognition"
   ]
  },
  {
   "cell_type": "code",
   "execution_count": 72,
   "id": "de662326-6e23-4ded-bb9a-020956c0c43f",
   "metadata": {},
   "outputs": [],
   "source": [
    "from nltk import ne_chunk, word_tokenize, pos_tag"
   ]
  },
  {
   "cell_type": "code",
   "execution_count": 73,
   "id": "2e54ee07-4999-4fc2-928a-ddf3201565d5",
   "metadata": {},
   "outputs": [],
   "source": [
    "chunk = ne_chunk(pos_tag(word_tokenize(reviews[\"Text\"][0])))"
   ]
  },
  {
   "cell_type": "code",
   "execution_count": 74,
   "id": "2d88e879-30da-4a02-897d-73eb2e59b7b5",
   "metadata": {
    "collapsed": true,
    "jupyter": {
     "outputs_hidden": true
    },
    "tags": []
   },
   "outputs": [
    {
     "name": "stdout",
     "output_type": "stream",
     "text": [
      "(S\n",
      "  bought/VBD\n",
      "  several/JJ\n",
      "  vitality/NN\n",
      "  canned/VBD\n",
      "  dog/JJ\n",
      "  food/NN\n",
      "  product/NN\n",
      "  found/VBD\n",
      "  good/JJ\n",
      "  quality/NN\n",
      "  product/NN\n",
      "  look/NN\n",
      "  like/IN\n",
      "  stew/NNS\n",
      "  processed/VBN\n",
      "  meat/NN\n",
      "  smell/NN\n",
      "  better/RBR\n",
      "  labrador/NN\n",
      "  finicky/JJ\n",
      "  appreciates/VBZ\n",
      "  product/NN\n",
      "  better/RBR\n",
      "  most/RBS)\n"
     ]
    }
   ],
   "source": [
    "print(ne_chunk(pos_tag(word_tokenize(reviews[\"Text\"][0]))))"
   ]
  },
  {
   "cell_type": "code",
   "execution_count": 75,
   "id": "226bb2ca-1451-46b6-82c8-6ee315d07849",
   "metadata": {},
   "outputs": [],
   "source": [
    "regEx = \"NP: {<DT>?<JJ>*<NN>}\"\n",
    "rp = nltk.RegexpParser(regEx)\n",
    "res = rp.parse(chunk)"
   ]
  },
  {
   "cell_type": "code",
   "execution_count": 76,
   "id": "aa109d8e-58b2-40c3-815d-b5173f835cea",
   "metadata": {
    "collapsed": true,
    "jupyter": {
     "outputs_hidden": true
    },
    "tags": []
   },
   "outputs": [
    {
     "name": "stdout",
     "output_type": "stream",
     "text": [
      "(S\n",
      "  bought/VBD\n",
      "  (NP several/JJ vitality/NN)\n",
      "  canned/VBD\n",
      "  (NP dog/JJ food/NN)\n",
      "  (NP product/NN)\n",
      "  found/VBD\n",
      "  (NP good/JJ quality/NN)\n",
      "  (NP product/NN)\n",
      "  (NP look/NN)\n",
      "  like/IN\n",
      "  stew/NNS\n",
      "  processed/VBN\n",
      "  (NP meat/NN)\n",
      "  (NP smell/NN)\n",
      "  better/RBR\n",
      "  (NP labrador/NN)\n",
      "  finicky/JJ\n",
      "  appreciates/VBZ\n",
      "  (NP product/NN)\n",
      "  better/RBR\n",
      "  most/RBS)\n"
     ]
    }
   ],
   "source": [
    "print(res)"
   ]
  },
  {
   "cell_type": "markdown",
   "id": "02e7f651-f1b7-47ca-ba90-982004bff766",
   "metadata": {},
   "source": [
    "### Feature Extraction"
   ]
  },
  {
   "cell_type": "code",
   "execution_count": 77,
   "id": "810f2f07-3e4a-44a3-ac26-3a28bb21718f",
   "metadata": {
    "tags": []
   },
   "outputs": [
    {
     "data": {
      "text/plain": [
       "0         166\n",
       "1         135\n",
       "2         282\n",
       "3         137\n",
       "4          83\n",
       "         ... \n",
       "568449     93\n",
       "568450    164\n",
       "568451    238\n",
       "568452    115\n",
       "568453     68\n",
       "Name: Text, Length: 568454, dtype: int64"
      ]
     },
     "execution_count": 77,
     "metadata": {},
     "output_type": "execute_result"
    }
   ],
   "source": [
    "# find each review has how many letter\n",
    "reviews[\"Text\"].str.len()"
   ]
  },
  {
   "cell_type": "code",
   "execution_count": 78,
   "id": "f91ec5e8-dccf-48d9-be6a-1725ffab2c3c",
   "metadata": {
    "tags": []
   },
   "outputs": [
    {
     "data": {
      "text/plain": [
       "0         24\n",
       "1         18\n",
       "2         41\n",
       "3         20\n",
       "4         13\n",
       "          ..\n",
       "568449    14\n",
       "568450    26\n",
       "568451    38\n",
       "568452    18\n",
       "568453     9\n",
       "Name: Text, Length: 568454, dtype: int64"
      ]
     },
     "execution_count": 78,
     "metadata": {},
     "output_type": "execute_result"
    }
   ],
   "source": [
    "# find each review has how many word\n",
    "reviews[\"Text\"].apply(lambda x: len(str(x).split(\" \")))"
   ]
  },
  {
   "cell_type": "markdown",
   "id": "1525285d-226e-4964-860b-e25672f756dd",
   "metadata": {},
   "source": [
    "### Vader Sentiment Scoring"
   ]
  },
  {
   "cell_type": "markdown",
   "id": "3aefe2e5-4d0c-4f9c-b6d9-f55302d53e39",
   "metadata": {},
   "source": [
    "- Vader : Valence Aware Dictionary and Sentiment Reasoner\n",
    "\n",
    "It is used for sentiment analysis of text which has both the polarities i.e. positive/negative. VADER is used to quantify how much of positive or negative emotion the text has and also the intensity of emotion.\n",
    "\n",
    "- It does not require any training data.\n",
    "- It can very well understand the sentiment of a text containing emoticons, slangs, conjunctions, capital words, punctuations and much more.\n",
    "- It works excellent on social media text.\n",
    "- VADER can work with multiple domains."
   ]
  },
  {
   "cell_type": "markdown",
   "id": "ac3dd0df-5538-4065-9906-e8129909a196",
   "metadata": {},
   "source": [
    "![POS](source/vader.jpg)"
   ]
  },
  {
   "cell_type": "code",
   "execution_count": 79,
   "id": "9090a062-c135-4524-b37b-1c3eed31ea3c",
   "metadata": {
    "tags": []
   },
   "outputs": [],
   "source": [
    "from nltk.sentiment.vader import SentimentIntensityAnalyzer"
   ]
  },
  {
   "cell_type": "code",
   "execution_count": 80,
   "id": "9157c9cf-1026-4bf3-a52c-5fb086f4c2eb",
   "metadata": {},
   "outputs": [
    {
     "data": {
      "text/plain": [
       "<nltk.sentiment.vader.SentimentIntensityAnalyzer at 0x260b3e46dc0>"
      ]
     },
     "execution_count": 80,
     "metadata": {},
     "output_type": "execute_result"
    }
   ],
   "source": [
    "sia = SentimentIntensityAnalyzer()\n",
    "sia"
   ]
  },
  {
   "cell_type": "code",
   "execution_count": 81,
   "id": "4d258517-405f-4a38-989b-a2d16382be46",
   "metadata": {},
   "outputs": [
    {
     "data": {
      "text/plain": [
       "{'neg': 0.0, 'neu': 0.334, 'pos': 0.666, 'compound': 0.6115}"
      ]
     },
     "execution_count": 81,
     "metadata": {},
     "output_type": "execute_result"
    }
   ],
   "source": [
    "sia.polarity_scores(\"I am so happy\")"
   ]
  },
  {
   "cell_type": "code",
   "execution_count": 82,
   "id": "95e34da0-8ee0-46b5-9f24-ac2d10a3a27b",
   "metadata": {},
   "outputs": [
    {
     "data": {
      "text/plain": [
       "{'neg': 0.52, 'neu': 0.48, 'pos': 0.0, 'compound': -0.7579}"
      ]
     },
     "execution_count": 82,
     "metadata": {},
     "output_type": "execute_result"
    }
   ],
   "source": [
    "sia.polarity_scores(\"I hate human who talks to much in vain\")"
   ]
  },
  {
   "cell_type": "code",
   "execution_count": 83,
   "id": "253e4452-0463-4cad-a2dd-5c553f0280b5",
   "metadata": {},
   "outputs": [
    {
     "data": {
      "text/plain": [
       "'bought several vitality canned dog food product found good quality product look like stew processed meat smell better labrador finicky appreciates product better most'"
      ]
     },
     "execution_count": 83,
     "metadata": {},
     "output_type": "execute_result"
    }
   ],
   "source": [
    "reviews[\"Text\"][0]"
   ]
  },
  {
   "cell_type": "code",
   "execution_count": 85,
   "id": "71d85acd-e5d0-4eb7-bc58-af97b3fe6936",
   "metadata": {},
   "outputs": [
    {
     "data": {
      "text/plain": [
       "{'neg': 0.0, 'neu': 0.517, 'pos': 0.483, 'compound': 0.9413}"
      ]
     },
     "execution_count": 85,
     "metadata": {},
     "output_type": "execute_result"
    }
   ],
   "source": [
    "sia.polarity_scores(reviews[\"Text\"][0])"
   ]
  },
  {
   "cell_type": "code",
   "execution_count": 86,
   "id": "47c68eef-447e-46a8-8107-c965abec7ebe",
   "metadata": {},
   "outputs": [
    {
     "data": {
      "text/plain": [
       "{'neg': 0.129, 'neu': 0.762, 'pos': 0.11, 'compound': -0.1027}"
      ]
     },
     "execution_count": 86,
     "metadata": {},
     "output_type": "execute_result"
    }
   ],
   "source": [
    "sia.polarity_scores(reviews[\"Text\"][1])"
   ]
  },
  {
   "cell_type": "markdown",
   "id": "7c41c2b4-e09d-437e-854f-bbcf349b3e8f",
   "metadata": {},
   "source": [
    "#### Apply Scoring Whole Dataset"
   ]
  },
  {
   "cell_type": "code",
   "execution_count": 87,
   "id": "46a16f93-f8c3-4c29-9339-dd76660f4c34",
   "metadata": {
    "tags": []
   },
   "outputs": [],
   "source": [
    "reviews = reviews.reset_index()"
   ]
  },
  {
   "cell_type": "code",
   "execution_count": 88,
   "id": "57da1a2b-8c5f-451c-8ef0-2ae22434a262",
   "metadata": {},
   "outputs": [
    {
     "data": {
      "text/html": [
       "<div>\n",
       "<style scoped>\n",
       "    .dataframe tbody tr th:only-of-type {\n",
       "        vertical-align: middle;\n",
       "    }\n",
       "\n",
       "    .dataframe tbody tr th {\n",
       "        vertical-align: top;\n",
       "    }\n",
       "\n",
       "    .dataframe thead th {\n",
       "        text-align: right;\n",
       "    }\n",
       "</style>\n",
       "<table border=\"1\" class=\"dataframe\">\n",
       "  <thead>\n",
       "    <tr style=\"text-align: right;\">\n",
       "      <th></th>\n",
       "      <th>index</th>\n",
       "      <th>Text</th>\n",
       "    </tr>\n",
       "  </thead>\n",
       "  <tbody>\n",
       "    <tr>\n",
       "      <th>0</th>\n",
       "      <td>0</td>\n",
       "      <td>bought several vitality canned dog food produc...</td>\n",
       "    </tr>\n",
       "    <tr>\n",
       "      <th>1</th>\n",
       "      <td>1</td>\n",
       "      <td>product arrived labeled jumbo salted peanutsth...</td>\n",
       "    </tr>\n",
       "    <tr>\n",
       "      <th>2</th>\n",
       "      <td>2</td>\n",
       "      <td>confection around century light pillowy citrus...</td>\n",
       "    </tr>\n",
       "    <tr>\n",
       "      <th>3</th>\n",
       "      <td>3</td>\n",
       "      <td>looking secret ingredient robitussin believe f...</td>\n",
       "    </tr>\n",
       "    <tr>\n",
       "      <th>4</th>\n",
       "      <td>4</td>\n",
       "      <td>great taffy great price wide assortment yummy ...</td>\n",
       "    </tr>\n",
       "  </tbody>\n",
       "</table>\n",
       "</div>"
      ],
      "text/plain": [
       "   index                                               Text\n",
       "0      0  bought several vitality canned dog food produc...\n",
       "1      1  product arrived labeled jumbo salted peanutsth...\n",
       "2      2  confection around century light pillowy citrus...\n",
       "3      3  looking secret ingredient robitussin believe f...\n",
       "4      4  great taffy great price wide assortment yummy ..."
      ]
     },
     "execution_count": 88,
     "metadata": {},
     "output_type": "execute_result"
    }
   ],
   "source": [
    "reviews.head()"
   ]
  },
  {
   "cell_type": "code",
   "execution_count": 89,
   "id": "70a280b6-d1b5-451c-ab5a-74d06bfd6113",
   "metadata": {
    "tags": []
   },
   "outputs": [],
   "source": [
    "vader = reviews[\"Text\"].apply(lambda x: sia.polarity_scores(x))"
   ]
  },
  {
   "cell_type": "code",
   "execution_count": 90,
   "id": "73ff19e3-0fa7-43b1-9c9b-72a040bd823c",
   "metadata": {
    "tags": []
   },
   "outputs": [
    {
     "data": {
      "text/plain": [
       "0    {'neg': 0.0, 'neu': 0.517, 'pos': 0.483, 'comp...\n",
       "1    {'neg': 0.129, 'neu': 0.762, 'pos': 0.11, 'com...\n",
       "2    {'neg': 0.13, 'neu': 0.584, 'pos': 0.286, 'com...\n",
       "3    {'neg': 0.0, 'neu': 0.868, 'pos': 0.132, 'comp...\n",
       "4    {'neg': 0.0, 'neu': 0.369, 'pos': 0.631, 'comp...\n",
       "Name: Text, dtype: object"
      ]
     },
     "execution_count": 90,
     "metadata": {},
     "output_type": "execute_result"
    }
   ],
   "source": [
    "vader.head()"
   ]
  },
  {
   "cell_type": "code",
   "execution_count": 91,
   "id": "1d042852-22c5-4a16-b41f-7d3a93841045",
   "metadata": {},
   "outputs": [],
   "source": [
    "vaderDf = pd.DataFrame()\n",
    "vaderDf[\"neg\"] = vader.apply(lambda x: x.get(\"neg\"))\n",
    "vaderDf[\"neu\"] = vader.apply(lambda x: x.get(\"neu\"))\n",
    "vaderDf[\"pos\"] = vader.apply(lambda x: x.get(\"pos\"))\n",
    "vaderDf[\"compound\"] = vader.apply(lambda x: x.get(\"compound\"))"
   ]
  },
  {
   "cell_type": "code",
   "execution_count": 92,
   "id": "1c292406-21ec-43e2-acbd-41bf4fac5182",
   "metadata": {},
   "outputs": [
    {
     "data": {
      "text/html": [
       "<div>\n",
       "<style scoped>\n",
       "    .dataframe tbody tr th:only-of-type {\n",
       "        vertical-align: middle;\n",
       "    }\n",
       "\n",
       "    .dataframe tbody tr th {\n",
       "        vertical-align: top;\n",
       "    }\n",
       "\n",
       "    .dataframe thead th {\n",
       "        text-align: right;\n",
       "    }\n",
       "</style>\n",
       "<table border=\"1\" class=\"dataframe\">\n",
       "  <thead>\n",
       "    <tr style=\"text-align: right;\">\n",
       "      <th></th>\n",
       "      <th>neg</th>\n",
       "      <th>neu</th>\n",
       "      <th>pos</th>\n",
       "      <th>compound</th>\n",
       "    </tr>\n",
       "  </thead>\n",
       "  <tbody>\n",
       "    <tr>\n",
       "      <th>0</th>\n",
       "      <td>0.000</td>\n",
       "      <td>0.517</td>\n",
       "      <td>0.483</td>\n",
       "      <td>0.9413</td>\n",
       "    </tr>\n",
       "    <tr>\n",
       "      <th>1</th>\n",
       "      <td>0.129</td>\n",
       "      <td>0.762</td>\n",
       "      <td>0.110</td>\n",
       "      <td>-0.1027</td>\n",
       "    </tr>\n",
       "    <tr>\n",
       "      <th>2</th>\n",
       "      <td>0.130</td>\n",
       "      <td>0.584</td>\n",
       "      <td>0.286</td>\n",
       "      <td>0.8624</td>\n",
       "    </tr>\n",
       "    <tr>\n",
       "      <th>3</th>\n",
       "      <td>0.000</td>\n",
       "      <td>0.868</td>\n",
       "      <td>0.132</td>\n",
       "      <td>0.4404</td>\n",
       "    </tr>\n",
       "    <tr>\n",
       "      <th>4</th>\n",
       "      <td>0.000</td>\n",
       "      <td>0.369</td>\n",
       "      <td>0.631</td>\n",
       "      <td>0.9468</td>\n",
       "    </tr>\n",
       "  </tbody>\n",
       "</table>\n",
       "</div>"
      ],
      "text/plain": [
       "     neg    neu    pos  compound\n",
       "0  0.000  0.517  0.483    0.9413\n",
       "1  0.129  0.762  0.110   -0.1027\n",
       "2  0.130  0.584  0.286    0.8624\n",
       "3  0.000  0.868  0.132    0.4404\n",
       "4  0.000  0.369  0.631    0.9468"
      ]
     },
     "execution_count": 92,
     "metadata": {},
     "output_type": "execute_result"
    }
   ],
   "source": [
    "vaderDf.head()"
   ]
  },
  {
   "cell_type": "code",
   "execution_count": 93,
   "id": "35690cea-3644-4015-aabf-8cbe27eeb6d4",
   "metadata": {
    "tags": []
   },
   "outputs": [
    {
     "data": {
      "text/html": [
       "<div>\n",
       "<style scoped>\n",
       "    .dataframe tbody tr th:only-of-type {\n",
       "        vertical-align: middle;\n",
       "    }\n",
       "\n",
       "    .dataframe tbody tr th {\n",
       "        vertical-align: top;\n",
       "    }\n",
       "\n",
       "    .dataframe thead th {\n",
       "        text-align: right;\n",
       "    }\n",
       "</style>\n",
       "<table border=\"1\" class=\"dataframe\">\n",
       "  <thead>\n",
       "    <tr style=\"text-align: right;\">\n",
       "      <th></th>\n",
       "      <th>index</th>\n",
       "      <th>neg</th>\n",
       "      <th>neu</th>\n",
       "      <th>pos</th>\n",
       "      <th>compound</th>\n",
       "    </tr>\n",
       "  </thead>\n",
       "  <tbody>\n",
       "    <tr>\n",
       "      <th>0</th>\n",
       "      <td>0</td>\n",
       "      <td>0.000</td>\n",
       "      <td>0.517</td>\n",
       "      <td>0.483</td>\n",
       "      <td>0.9413</td>\n",
       "    </tr>\n",
       "    <tr>\n",
       "      <th>1</th>\n",
       "      <td>1</td>\n",
       "      <td>0.129</td>\n",
       "      <td>0.762</td>\n",
       "      <td>0.110</td>\n",
       "      <td>-0.1027</td>\n",
       "    </tr>\n",
       "    <tr>\n",
       "      <th>2</th>\n",
       "      <td>2</td>\n",
       "      <td>0.130</td>\n",
       "      <td>0.584</td>\n",
       "      <td>0.286</td>\n",
       "      <td>0.8624</td>\n",
       "    </tr>\n",
       "    <tr>\n",
       "      <th>3</th>\n",
       "      <td>3</td>\n",
       "      <td>0.000</td>\n",
       "      <td>0.868</td>\n",
       "      <td>0.132</td>\n",
       "      <td>0.4404</td>\n",
       "    </tr>\n",
       "    <tr>\n",
       "      <th>4</th>\n",
       "      <td>4</td>\n",
       "      <td>0.000</td>\n",
       "      <td>0.369</td>\n",
       "      <td>0.631</td>\n",
       "      <td>0.9468</td>\n",
       "    </tr>\n",
       "    <tr>\n",
       "      <th>...</th>\n",
       "      <td>...</td>\n",
       "      <td>...</td>\n",
       "      <td>...</td>\n",
       "      <td>...</td>\n",
       "      <td>...</td>\n",
       "    </tr>\n",
       "    <tr>\n",
       "      <th>568449</th>\n",
       "      <td>568449</td>\n",
       "      <td>0.000</td>\n",
       "      <td>0.420</td>\n",
       "      <td>0.580</td>\n",
       "      <td>0.9300</td>\n",
       "    </tr>\n",
       "    <tr>\n",
       "      <th>568450</th>\n",
       "      <td>568450</td>\n",
       "      <td>0.320</td>\n",
       "      <td>0.548</td>\n",
       "      <td>0.132</td>\n",
       "      <td>-0.7841</td>\n",
       "    </tr>\n",
       "    <tr>\n",
       "      <th>568451</th>\n",
       "      <td>568451</td>\n",
       "      <td>0.000</td>\n",
       "      <td>0.749</td>\n",
       "      <td>0.251</td>\n",
       "      <td>0.8860</td>\n",
       "    </tr>\n",
       "    <tr>\n",
       "      <th>568452</th>\n",
       "      <td>568452</td>\n",
       "      <td>0.059</td>\n",
       "      <td>0.243</td>\n",
       "      <td>0.697</td>\n",
       "      <td>0.9738</td>\n",
       "    </tr>\n",
       "    <tr>\n",
       "      <th>568453</th>\n",
       "      <td>568453</td>\n",
       "      <td>0.000</td>\n",
       "      <td>0.741</td>\n",
       "      <td>0.259</td>\n",
       "      <td>0.4215</td>\n",
       "    </tr>\n",
       "  </tbody>\n",
       "</table>\n",
       "<p>568454 rows × 5 columns</p>\n",
       "</div>"
      ],
      "text/plain": [
       "         index    neg    neu    pos  compound\n",
       "0            0  0.000  0.517  0.483    0.9413\n",
       "1            1  0.129  0.762  0.110   -0.1027\n",
       "2            2  0.130  0.584  0.286    0.8624\n",
       "3            3  0.000  0.868  0.132    0.4404\n",
       "4            4  0.000  0.369  0.631    0.9468\n",
       "...        ...    ...    ...    ...       ...\n",
       "568449  568449  0.000  0.420  0.580    0.9300\n",
       "568450  568450  0.320  0.548  0.132   -0.7841\n",
       "568451  568451  0.000  0.749  0.251    0.8860\n",
       "568452  568452  0.059  0.243  0.697    0.9738\n",
       "568453  568453  0.000  0.741  0.259    0.4215\n",
       "\n",
       "[568454 rows x 5 columns]"
      ]
     },
     "execution_count": 93,
     "metadata": {},
     "output_type": "execute_result"
    }
   ],
   "source": [
    "vaderDf.reset_index()"
   ]
  },
  {
   "cell_type": "markdown",
   "id": "860f05c1-3093-471d-a459-753399c7dc81",
   "metadata": {},
   "source": [
    "#### Concat Dataframes"
   ]
  },
  {
   "cell_type": "code",
   "execution_count": 94,
   "id": "4ac6570d-d606-4bf1-ade5-ec70d5d27c96",
   "metadata": {
    "tags": []
   },
   "outputs": [],
   "source": [
    "vaderDf = pd.concat([reviews, vaderDf], axis=1, join='inner')"
   ]
  },
  {
   "cell_type": "code",
   "execution_count": 95,
   "id": "96afa203-c79c-487d-b254-a1250155eef0",
   "metadata": {},
   "outputs": [
    {
     "data": {
      "text/html": [
       "<div>\n",
       "<style scoped>\n",
       "    .dataframe tbody tr th:only-of-type {\n",
       "        vertical-align: middle;\n",
       "    }\n",
       "\n",
       "    .dataframe tbody tr th {\n",
       "        vertical-align: top;\n",
       "    }\n",
       "\n",
       "    .dataframe thead th {\n",
       "        text-align: right;\n",
       "    }\n",
       "</style>\n",
       "<table border=\"1\" class=\"dataframe\">\n",
       "  <thead>\n",
       "    <tr style=\"text-align: right;\">\n",
       "      <th></th>\n",
       "      <th>index</th>\n",
       "      <th>Text</th>\n",
       "      <th>neg</th>\n",
       "      <th>neu</th>\n",
       "      <th>pos</th>\n",
       "      <th>compound</th>\n",
       "    </tr>\n",
       "  </thead>\n",
       "  <tbody>\n",
       "    <tr>\n",
       "      <th>0</th>\n",
       "      <td>0</td>\n",
       "      <td>bought several vitality canned dog food produc...</td>\n",
       "      <td>0.000</td>\n",
       "      <td>0.517</td>\n",
       "      <td>0.483</td>\n",
       "      <td>0.9413</td>\n",
       "    </tr>\n",
       "    <tr>\n",
       "      <th>1</th>\n",
       "      <td>1</td>\n",
       "      <td>product arrived labeled jumbo salted peanutsth...</td>\n",
       "      <td>0.129</td>\n",
       "      <td>0.762</td>\n",
       "      <td>0.110</td>\n",
       "      <td>-0.1027</td>\n",
       "    </tr>\n",
       "    <tr>\n",
       "      <th>2</th>\n",
       "      <td>2</td>\n",
       "      <td>confection around century light pillowy citrus...</td>\n",
       "      <td>0.130</td>\n",
       "      <td>0.584</td>\n",
       "      <td>0.286</td>\n",
       "      <td>0.8624</td>\n",
       "    </tr>\n",
       "    <tr>\n",
       "      <th>3</th>\n",
       "      <td>3</td>\n",
       "      <td>looking secret ingredient robitussin believe f...</td>\n",
       "      <td>0.000</td>\n",
       "      <td>0.868</td>\n",
       "      <td>0.132</td>\n",
       "      <td>0.4404</td>\n",
       "    </tr>\n",
       "    <tr>\n",
       "      <th>4</th>\n",
       "      <td>4</td>\n",
       "      <td>great taffy great price wide assortment yummy ...</td>\n",
       "      <td>0.000</td>\n",
       "      <td>0.369</td>\n",
       "      <td>0.631</td>\n",
       "      <td>0.9468</td>\n",
       "    </tr>\n",
       "  </tbody>\n",
       "</table>\n",
       "</div>"
      ],
      "text/plain": [
       "   index                                               Text    neg    neu  \\\n",
       "0      0  bought several vitality canned dog food produc...  0.000  0.517   \n",
       "1      1  product arrived labeled jumbo salted peanutsth...  0.129  0.762   \n",
       "2      2  confection around century light pillowy citrus...  0.130  0.584   \n",
       "3      3  looking secret ingredient robitussin believe f...  0.000  0.868   \n",
       "4      4  great taffy great price wide assortment yummy ...  0.000  0.369   \n",
       "\n",
       "     pos  compound  \n",
       "0  0.483    0.9413  \n",
       "1  0.110   -0.1027  \n",
       "2  0.286    0.8624  \n",
       "3  0.132    0.4404  \n",
       "4  0.631    0.9468  "
      ]
     },
     "execution_count": 95,
     "metadata": {},
     "output_type": "execute_result"
    }
   ],
   "source": [
    "vaderDf.head()"
   ]
  },
  {
   "cell_type": "code",
   "execution_count": 96,
   "id": "cc7b0f62-e0d1-41c3-b90c-583953e56571",
   "metadata": {},
   "outputs": [
    {
     "data": {
      "text/html": [
       "<div>\n",
       "<style scoped>\n",
       "    .dataframe tbody tr th:only-of-type {\n",
       "        vertical-align: middle;\n",
       "    }\n",
       "\n",
       "    .dataframe tbody tr th {\n",
       "        vertical-align: top;\n",
       "    }\n",
       "\n",
       "    .dataframe thead th {\n",
       "        text-align: right;\n",
       "    }\n",
       "</style>\n",
       "<table border=\"1\" class=\"dataframe\">\n",
       "  <thead>\n",
       "    <tr style=\"text-align: right;\">\n",
       "      <th></th>\n",
       "      <th>index</th>\n",
       "      <th>Text</th>\n",
       "      <th>neg</th>\n",
       "      <th>neu</th>\n",
       "      <th>pos</th>\n",
       "      <th>compound</th>\n",
       "    </tr>\n",
       "  </thead>\n",
       "  <tbody>\n",
       "    <tr>\n",
       "      <th>568449</th>\n",
       "      <td>568449</td>\n",
       "      <td>great sesame chickenthis good better resturant...</td>\n",
       "      <td>0.000</td>\n",
       "      <td>0.420</td>\n",
       "      <td>0.580</td>\n",
       "      <td>0.9300</td>\n",
       "    </tr>\n",
       "    <tr>\n",
       "      <th>568450</th>\n",
       "      <td>568450</td>\n",
       "      <td>im disappointed flavor chocolate note especial...</td>\n",
       "      <td>0.320</td>\n",
       "      <td>0.548</td>\n",
       "      <td>0.132</td>\n",
       "      <td>-0.7841</td>\n",
       "    </tr>\n",
       "    <tr>\n",
       "      <th>568451</th>\n",
       "      <td>568451</td>\n",
       "      <td>star small give one training session tried tra...</td>\n",
       "      <td>0.000</td>\n",
       "      <td>0.749</td>\n",
       "      <td>0.251</td>\n",
       "      <td>0.8860</td>\n",
       "    </tr>\n",
       "    <tr>\n",
       "      <th>568452</th>\n",
       "      <td>568452</td>\n",
       "      <td>best treat training rewarding dog good groomin...</td>\n",
       "      <td>0.059</td>\n",
       "      <td>0.243</td>\n",
       "      <td>0.697</td>\n",
       "      <td>0.9738</td>\n",
       "    </tr>\n",
       "    <tr>\n",
       "      <th>568453</th>\n",
       "      <td>568453</td>\n",
       "      <td>satisfied product advertised use cereal raw vi...</td>\n",
       "      <td>0.000</td>\n",
       "      <td>0.741</td>\n",
       "      <td>0.259</td>\n",
       "      <td>0.4215</td>\n",
       "    </tr>\n",
       "  </tbody>\n",
       "</table>\n",
       "</div>"
      ],
      "text/plain": [
       "         index                                               Text    neg  \\\n",
       "568449  568449  great sesame chickenthis good better resturant...  0.000   \n",
       "568450  568450  im disappointed flavor chocolate note especial...  0.320   \n",
       "568451  568451  star small give one training session tried tra...  0.000   \n",
       "568452  568452  best treat training rewarding dog good groomin...  0.059   \n",
       "568453  568453  satisfied product advertised use cereal raw vi...  0.000   \n",
       "\n",
       "          neu    pos  compound  \n",
       "568449  0.420  0.580    0.9300  \n",
       "568450  0.548  0.132   -0.7841  \n",
       "568451  0.749  0.251    0.8860  \n",
       "568452  0.243  0.697    0.9738  \n",
       "568453  0.741  0.259    0.4215  "
      ]
     },
     "execution_count": 96,
     "metadata": {},
     "output_type": "execute_result"
    }
   ],
   "source": [
    "vaderDf.tail()"
   ]
  },
  {
   "cell_type": "code",
   "execution_count": 97,
   "id": "c87c2475-2d72-4a12-870b-f22861c5137c",
   "metadata": {},
   "outputs": [
    {
     "data": {
      "text/plain": [
       "(568454, 6)"
      ]
     },
     "execution_count": 97,
     "metadata": {},
     "output_type": "execute_result"
    }
   ],
   "source": [
    "vaderDf.shape"
   ]
  },
  {
   "cell_type": "code",
   "execution_count": 98,
   "id": "5f25e452-de9e-44ae-b779-dea5aa348847",
   "metadata": {},
   "outputs": [],
   "source": [
    "vaders = pd.DataFrame()\n",
    "vaders = pd.concat([vaderDf, df.Score], axis=1, join='inner')"
   ]
  },
  {
   "cell_type": "code",
   "execution_count": 99,
   "id": "97941dd8-2441-49be-acd2-f56038827b18",
   "metadata": {},
   "outputs": [
    {
     "data": {
      "text/html": [
       "<div>\n",
       "<style scoped>\n",
       "    .dataframe tbody tr th:only-of-type {\n",
       "        vertical-align: middle;\n",
       "    }\n",
       "\n",
       "    .dataframe tbody tr th {\n",
       "        vertical-align: top;\n",
       "    }\n",
       "\n",
       "    .dataframe thead th {\n",
       "        text-align: right;\n",
       "    }\n",
       "</style>\n",
       "<table border=\"1\" class=\"dataframe\">\n",
       "  <thead>\n",
       "    <tr style=\"text-align: right;\">\n",
       "      <th></th>\n",
       "      <th>index</th>\n",
       "      <th>Text</th>\n",
       "      <th>neg</th>\n",
       "      <th>neu</th>\n",
       "      <th>pos</th>\n",
       "      <th>compound</th>\n",
       "      <th>Score</th>\n",
       "    </tr>\n",
       "  </thead>\n",
       "  <tbody>\n",
       "    <tr>\n",
       "      <th>0</th>\n",
       "      <td>0</td>\n",
       "      <td>bought several vitality canned dog food produc...</td>\n",
       "      <td>0.000</td>\n",
       "      <td>0.517</td>\n",
       "      <td>0.483</td>\n",
       "      <td>0.9413</td>\n",
       "      <td>5</td>\n",
       "    </tr>\n",
       "    <tr>\n",
       "      <th>1</th>\n",
       "      <td>1</td>\n",
       "      <td>product arrived labeled jumbo salted peanutsth...</td>\n",
       "      <td>0.129</td>\n",
       "      <td>0.762</td>\n",
       "      <td>0.110</td>\n",
       "      <td>-0.1027</td>\n",
       "      <td>1</td>\n",
       "    </tr>\n",
       "    <tr>\n",
       "      <th>2</th>\n",
       "      <td>2</td>\n",
       "      <td>confection around century light pillowy citrus...</td>\n",
       "      <td>0.130</td>\n",
       "      <td>0.584</td>\n",
       "      <td>0.286</td>\n",
       "      <td>0.8624</td>\n",
       "      <td>4</td>\n",
       "    </tr>\n",
       "    <tr>\n",
       "      <th>3</th>\n",
       "      <td>3</td>\n",
       "      <td>looking secret ingredient robitussin believe f...</td>\n",
       "      <td>0.000</td>\n",
       "      <td>0.868</td>\n",
       "      <td>0.132</td>\n",
       "      <td>0.4404</td>\n",
       "      <td>2</td>\n",
       "    </tr>\n",
       "    <tr>\n",
       "      <th>4</th>\n",
       "      <td>4</td>\n",
       "      <td>great taffy great price wide assortment yummy ...</td>\n",
       "      <td>0.000</td>\n",
       "      <td>0.369</td>\n",
       "      <td>0.631</td>\n",
       "      <td>0.9468</td>\n",
       "      <td>5</td>\n",
       "    </tr>\n",
       "  </tbody>\n",
       "</table>\n",
       "</div>"
      ],
      "text/plain": [
       "   index                                               Text    neg    neu  \\\n",
       "0      0  bought several vitality canned dog food produc...  0.000  0.517   \n",
       "1      1  product arrived labeled jumbo salted peanutsth...  0.129  0.762   \n",
       "2      2  confection around century light pillowy citrus...  0.130  0.584   \n",
       "3      3  looking secret ingredient robitussin believe f...  0.000  0.868   \n",
       "4      4  great taffy great price wide assortment yummy ...  0.000  0.369   \n",
       "\n",
       "     pos  compound  Score  \n",
       "0  0.483    0.9413      5  \n",
       "1  0.110   -0.1027      1  \n",
       "2  0.286    0.8624      4  \n",
       "3  0.132    0.4404      2  \n",
       "4  0.631    0.9468      5  "
      ]
     },
     "execution_count": 99,
     "metadata": {},
     "output_type": "execute_result"
    }
   ],
   "source": [
    "vaders.head()"
   ]
  },
  {
   "cell_type": "markdown",
   "id": "e76a1a67-c12b-4743-8b90-aa30dade69d7",
   "metadata": {},
   "source": [
    "#### Plot VADER Results"
   ]
  },
  {
   "cell_type": "code",
   "execution_count": 100,
   "id": "77e67fba-93ab-48a7-a0b1-2df30db32c17",
   "metadata": {
    "tags": []
   },
   "outputs": [
    {
     "data": {
      "image/png": "[encoded data removed]",
      "text/plain": [
       "<Figure size 432x288 with 1 Axes>"
      ]
     },
     "metadata": {},
     "output_type": "display_data"
    }
   ],
   "source": [
    "ax = sns.barplot(data=vaders, x = 'Score', y='compound')\n",
    "ax.set_title(\"Compound Scores\")\n",
    "plt.show()"
   ]
  },
  {
   "cell_type": "code",
   "execution_count": 101,
   "id": "6ca26902-ffb4-4e64-8f73-248e61ef0a9b",
   "metadata": {},
   "outputs": [
    {
     "data": {
      "image/png": "[encoded data removed]",
      "text/plain": [
       "<Figure size 432x288 with 1 Axes>"
      ]
     },
     "metadata": {},
     "output_type": "display_data"
    }
   ],
   "source": [
    "sns.barplot(data=vaders, x='Score', y='pos');"
   ]
  },
  {
   "cell_type": "code",
   "execution_count": 102,
   "id": "5d128185-515a-456d-b6d9-25b57bcf622a",
   "metadata": {},
   "outputs": [
    {
     "data": {
      "image/png": "[encoded data removed]",
      "text/plain": [
       "<Figure size 1080x360 with 3 Axes>"
      ]
     },
     "metadata": {},
     "output_type": "display_data"
    }
   ],
   "source": [
    "fig, axs = plt.subplots(1,3,figsize=(15, 5))\n",
    "sns.barplot(data=vaders, x=\"Score\", y=\"pos\", ax=axs[0])\n",
    "sns.barplot(data=vaders, x=\"Score\", y=\"neu\", ax=axs[1])\n",
    "sns.barplot(data=vaders, x=\"Score\", y=\"neg\", ax=axs[2])\n",
    "axs[0].set_title(\"Positive\")\n",
    "axs[1].set_title(\"Neutral\")\n",
    "axs[2].set_title(\"negative\")\n",
    "plt.show()"
   ]
  },
  {
   "cell_type": "markdown",
   "id": "760902ea-2d3b-46ae-917c-da5731c307f4",
   "metadata": {},
   "source": [
    "Neutral sentiment has very similar product scoring points as we wait."
   ]
  },
  {
   "cell_type": "code",
   "execution_count": 103,
   "id": "03814ad7-538a-4c81-8398-674029290927",
   "metadata": {},
   "outputs": [
    {
     "data": {
      "image/png": "[encoded data removed]",
      "text/plain": [
       "<Figure size 582.375x540 with 12 Axes>"
      ]
     },
     "metadata": {},
     "output_type": "display_data"
    }
   ],
   "source": [
    "sns.pairplot(data=vaders, vars=[\"neg\", \"neu\", \"pos\"], hue=\"Score\", palette=\"tab10\")\n",
    "plt.show()"
   ]
  },
  {
   "cell_type": "markdown",
   "id": "f12a6605-9722-45e4-af45-f91478d8a616",
   "metadata": {},
   "source": [
    "This graphic shows us how scoring distributions on sentiment. As you see we have 5 scored negative reviews or 1 scored positive sentiments."
   ]
  },
  {
   "cell_type": "markdown",
   "id": "821a9e58-1fec-47fa-8709-7ece42cf952b",
   "metadata": {},
   "source": [
    "### Visualization With WordCloud"
   ]
  },
  {
   "cell_type": "markdown",
   "id": "33d80312-5d73-4366-8344-c7bf4a56fdc9",
   "metadata": {},
   "source": [
    "Visualize more frequent words with wordcloud"
   ]
  },
  {
   "cell_type": "code",
   "execution_count": 104,
   "id": "7e70a604-38eb-4178-b405-410bfe5c46d3",
   "metadata": {},
   "outputs": [],
   "source": [
    "from wordcloud import WordCloud"
   ]
  },
  {
   "cell_type": "code",
   "execution_count": 105,
   "id": "f8b3c6cd-0cd3-4acc-a8f3-7f95fd29cdf5",
   "metadata": {},
   "outputs": [
    {
     "data": {
      "image/png": "[encoded data removed]",
      "text/plain": [
       "<Figure size 1152x576 with 1 Axes>"
      ]
     },
     "metadata": {},
     "output_type": "display_data"
    }
   ],
   "source": [
    "wc = WordCloud(min_font_size=4, max_words=100).generate(frequent[0] + frequent[1] + frequent[2] + frequent[3] + frequent[4] + frequent[5])\n",
    "plt.figure(figsize=(16,8)) \n",
    "plt.imshow(wc)\n",
    "plt.axis(\"off\")\n",
    "plt.show()"
   ]
  },
  {
   "cell_type": "markdown",
   "id": "170265fc-422c-42d7-adc2-9c716b4f6faa",
   "metadata": {},
   "source": [
    "### Feature Methods"
   ]
  },
  {
   "cell_type": "markdown",
   "id": "9dc76158-80a3-4041-9814-0b29488d15a0",
   "metadata": {},
   "source": [
    "Machines cannot understand characters and words. So when dealing with text data we need to represent it in numbers to be understood by the machine."
   ]
  },
  {
   "cell_type": "markdown",
   "id": "bea01de7-a0ad-47e0-a2aa-c096343d42c5",
   "metadata": {},
   "source": [
    "#### Import Dependencies"
   ]
  },
  {
   "cell_type": "code",
   "execution_count": 2,
   "id": "251135c8-627c-497a-8545-4cdcd904b3df",
   "metadata": {},
   "outputs": [],
   "source": [
    "from sklearn import decomposition, ensemble, preprocessing\n",
    "from sklearn.model_selection import train_test_split\n",
    "from sklearn.feature_extraction.text import TfidfVectorizer, CountVectorizer"
   ]
  },
  {
   "cell_type": "markdown",
   "id": "6e746813-6020-470e-ac48-4ff75b8c1d49",
   "metadata": {},
   "source": [
    "### Encoding: Numeric Scoring & Categorization"
   ]
  },
  {
   "cell_type": "markdown",
   "id": "6e6bee81-cc72-4b5d-a039-ec5b301c53e5",
   "metadata": {},
   "source": [
    "The performance of a machine learning model not only depends on the model and the hyperparameters but also on how we process and feed different types of variables to the model. \n",
    "Since most machine learning models only accept numerical variables, preprocessing the categorical variables becomes a necessary step.\n",
    "We need to convert these categorical variables to numbers such that the model is able to understand and extract valuable information."
   ]
  },
  {
   "cell_type": "markdown",
   "id": "891f54ef-63de-4e68-9b43-d86403ab02c0",
   "metadata": {},
   "source": [
    "SScoring encoded, it means, it numerized instead of sentiment categorization."
   ]
  },
  {
   "cell_type": "code",
   "execution_count": 107,
   "id": "df6cfb44-4f3d-4fed-a613-17e90c8e53eb",
   "metadata": {},
   "outputs": [],
   "source": [
    "vaders[\"SScoring\"] = vaders[\"compound\"].apply(lambda x: 0 if x< 0.25 else 1 if (x>= 0.25 and x<= 0.6) else 2)"
   ]
  },
  {
   "cell_type": "code",
   "execution_count": 108,
   "id": "3b74f313-2bff-43d7-baa3-256ea3e0d619",
   "metadata": {},
   "outputs": [],
   "source": [
    "vaders[\"Sentiment\"] = vaders[\"compound\"].apply(lambda x: \"neg\" if x< 0.25 else \"neu\" if (x>= 0.25 and x<= 0.6) else \"pos\")"
   ]
  },
  {
   "cell_type": "code",
   "execution_count": 109,
   "id": "08c41643-410e-4b6d-95af-d952182569c5",
   "metadata": {},
   "outputs": [
    {
     "data": {
      "text/html": [
       "<div>\n",
       "<style scoped>\n",
       "    .dataframe tbody tr th:only-of-type {\n",
       "        vertical-align: middle;\n",
       "    }\n",
       "\n",
       "    .dataframe tbody tr th {\n",
       "        vertical-align: top;\n",
       "    }\n",
       "\n",
       "    .dataframe thead th {\n",
       "        text-align: right;\n",
       "    }\n",
       "</style>\n",
       "<table border=\"1\" class=\"dataframe\">\n",
       "  <thead>\n",
       "    <tr style=\"text-align: right;\">\n",
       "      <th></th>\n",
       "      <th>index</th>\n",
       "      <th>Text</th>\n",
       "      <th>neg</th>\n",
       "      <th>neu</th>\n",
       "      <th>pos</th>\n",
       "      <th>compound</th>\n",
       "      <th>Score</th>\n",
       "      <th>SScoring</th>\n",
       "      <th>Sentiment</th>\n",
       "    </tr>\n",
       "  </thead>\n",
       "  <tbody>\n",
       "    <tr>\n",
       "      <th>0</th>\n",
       "      <td>0</td>\n",
       "      <td>bought several vitality canned dog food produc...</td>\n",
       "      <td>0.000</td>\n",
       "      <td>0.517</td>\n",
       "      <td>0.483</td>\n",
       "      <td>0.9413</td>\n",
       "      <td>5</td>\n",
       "      <td>2</td>\n",
       "      <td>pos</td>\n",
       "    </tr>\n",
       "    <tr>\n",
       "      <th>1</th>\n",
       "      <td>1</td>\n",
       "      <td>product arrived labeled jumbo salted peanutsth...</td>\n",
       "      <td>0.129</td>\n",
       "      <td>0.762</td>\n",
       "      <td>0.110</td>\n",
       "      <td>-0.1027</td>\n",
       "      <td>1</td>\n",
       "      <td>0</td>\n",
       "      <td>neg</td>\n",
       "    </tr>\n",
       "    <tr>\n",
       "      <th>2</th>\n",
       "      <td>2</td>\n",
       "      <td>confection around century light pillowy citrus...</td>\n",
       "      <td>0.130</td>\n",
       "      <td>0.584</td>\n",
       "      <td>0.286</td>\n",
       "      <td>0.8624</td>\n",
       "      <td>4</td>\n",
       "      <td>2</td>\n",
       "      <td>pos</td>\n",
       "    </tr>\n",
       "    <tr>\n",
       "      <th>3</th>\n",
       "      <td>3</td>\n",
       "      <td>looking secret ingredient robitussin believe f...</td>\n",
       "      <td>0.000</td>\n",
       "      <td>0.868</td>\n",
       "      <td>0.132</td>\n",
       "      <td>0.4404</td>\n",
       "      <td>2</td>\n",
       "      <td>1</td>\n",
       "      <td>neu</td>\n",
       "    </tr>\n",
       "    <tr>\n",
       "      <th>4</th>\n",
       "      <td>4</td>\n",
       "      <td>great taffy great price wide assortment yummy ...</td>\n",
       "      <td>0.000</td>\n",
       "      <td>0.369</td>\n",
       "      <td>0.631</td>\n",
       "      <td>0.9468</td>\n",
       "      <td>5</td>\n",
       "      <td>2</td>\n",
       "      <td>pos</td>\n",
       "    </tr>\n",
       "  </tbody>\n",
       "</table>\n",
       "</div>"
      ],
      "text/plain": [
       "   index                                               Text    neg    neu  \\\n",
       "0      0  bought several vitality canned dog food produc...  0.000  0.517   \n",
       "1      1  product arrived labeled jumbo salted peanutsth...  0.129  0.762   \n",
       "2      2  confection around century light pillowy citrus...  0.130  0.584   \n",
       "3      3  looking secret ingredient robitussin believe f...  0.000  0.868   \n",
       "4      4  great taffy great price wide assortment yummy ...  0.000  0.369   \n",
       "\n",
       "     pos  compound  Score  SScoring Sentiment  \n",
       "0  0.483    0.9413      5         2       pos  \n",
       "1  0.110   -0.1027      1         0       neg  \n",
       "2  0.286    0.8624      4         2       pos  \n",
       "3  0.132    0.4404      2         1       neu  \n",
       "4  0.631    0.9468      5         2       pos  "
      ]
     },
     "execution_count": 109,
     "metadata": {},
     "output_type": "execute_result"
    }
   ],
   "source": [
    "vaders.head()"
   ]
  },
  {
   "cell_type": "code",
   "execution_count": 110,
   "id": "1984dac2-491a-42df-a8b4-d8f5902aad2b",
   "metadata": {},
   "outputs": [
    {
     "data": {
      "text/html": [
       "<div>\n",
       "<style scoped>\n",
       "    .dataframe tbody tr th:only-of-type {\n",
       "        vertical-align: middle;\n",
       "    }\n",
       "\n",
       "    .dataframe tbody tr th {\n",
       "        vertical-align: top;\n",
       "    }\n",
       "\n",
       "    .dataframe thead th {\n",
       "        text-align: right;\n",
       "    }\n",
       "</style>\n",
       "<table border=\"1\" class=\"dataframe\">\n",
       "  <thead>\n",
       "    <tr style=\"text-align: right;\">\n",
       "      <th></th>\n",
       "      <th>index</th>\n",
       "      <th>Text</th>\n",
       "      <th>neg</th>\n",
       "      <th>neu</th>\n",
       "      <th>pos</th>\n",
       "      <th>compound</th>\n",
       "      <th>Score</th>\n",
       "      <th>SScoring</th>\n",
       "      <th>Sentiment</th>\n",
       "    </tr>\n",
       "  </thead>\n",
       "  <tbody>\n",
       "    <tr>\n",
       "      <th>568449</th>\n",
       "      <td>568449</td>\n",
       "      <td>great sesame chickenthis good better resturant...</td>\n",
       "      <td>0.000</td>\n",
       "      <td>0.420</td>\n",
       "      <td>0.580</td>\n",
       "      <td>0.9300</td>\n",
       "      <td>5</td>\n",
       "      <td>2</td>\n",
       "      <td>pos</td>\n",
       "    </tr>\n",
       "    <tr>\n",
       "      <th>568450</th>\n",
       "      <td>568450</td>\n",
       "      <td>im disappointed flavor chocolate note especial...</td>\n",
       "      <td>0.320</td>\n",
       "      <td>0.548</td>\n",
       "      <td>0.132</td>\n",
       "      <td>-0.7841</td>\n",
       "      <td>2</td>\n",
       "      <td>0</td>\n",
       "      <td>neg</td>\n",
       "    </tr>\n",
       "    <tr>\n",
       "      <th>568451</th>\n",
       "      <td>568451</td>\n",
       "      <td>star small give one training session tried tra...</td>\n",
       "      <td>0.000</td>\n",
       "      <td>0.749</td>\n",
       "      <td>0.251</td>\n",
       "      <td>0.8860</td>\n",
       "      <td>5</td>\n",
       "      <td>2</td>\n",
       "      <td>pos</td>\n",
       "    </tr>\n",
       "    <tr>\n",
       "      <th>568452</th>\n",
       "      <td>568452</td>\n",
       "      <td>best treat training rewarding dog good groomin...</td>\n",
       "      <td>0.059</td>\n",
       "      <td>0.243</td>\n",
       "      <td>0.697</td>\n",
       "      <td>0.9738</td>\n",
       "      <td>5</td>\n",
       "      <td>2</td>\n",
       "      <td>pos</td>\n",
       "    </tr>\n",
       "    <tr>\n",
       "      <th>568453</th>\n",
       "      <td>568453</td>\n",
       "      <td>satisfied product advertised use cereal raw vi...</td>\n",
       "      <td>0.000</td>\n",
       "      <td>0.741</td>\n",
       "      <td>0.259</td>\n",
       "      <td>0.4215</td>\n",
       "      <td>5</td>\n",
       "      <td>1</td>\n",
       "      <td>neu</td>\n",
       "    </tr>\n",
       "  </tbody>\n",
       "</table>\n",
       "</div>"
      ],
      "text/plain": [
       "         index                                               Text    neg  \\\n",
       "568449  568449  great sesame chickenthis good better resturant...  0.000   \n",
       "568450  568450  im disappointed flavor chocolate note especial...  0.320   \n",
       "568451  568451  star small give one training session tried tra...  0.000   \n",
       "568452  568452  best treat training rewarding dog good groomin...  0.059   \n",
       "568453  568453  satisfied product advertised use cereal raw vi...  0.000   \n",
       "\n",
       "          neu    pos  compound  Score  SScoring Sentiment  \n",
       "568449  0.420  0.580    0.9300      5         2       pos  \n",
       "568450  0.548  0.132   -0.7841      2         0       neg  \n",
       "568451  0.749  0.251    0.8860      5         2       pos  \n",
       "568452  0.243  0.697    0.9738      5         2       pos  \n",
       "568453  0.741  0.259    0.4215      5         1       neu  "
      ]
     },
     "execution_count": 110,
     "metadata": {},
     "output_type": "execute_result"
    }
   ],
   "source": [
    "vaders.tail()"
   ]
  },
  {
   "cell_type": "markdown",
   "id": "f75c3df2-c5de-4219-829e-eea71bbd2f36",
   "metadata": {},
   "source": [
    "### Export DF and Avoid Rerunning"
   ]
  },
  {
   "cell_type": "markdown",
   "id": "f18aa67b-1745-4d19-9a3d-2feacc32bfde",
   "metadata": {},
   "source": [
    "Export VADER results for avoid rerunning whole notebook. It is created ones and use easily."
   ]
  },
  {
   "cell_type": "code",
   "execution_count": 113,
   "id": "5f70123e-b0d0-47c2-b8f2-02f9b84d8ea4",
   "metadata": {},
   "outputs": [],
   "source": [
    "# vaders.to_csv(r'vaders.csv', index=False, header=True)"
   ]
  },
  {
   "cell_type": "code",
   "execution_count": 3,
   "id": "e92318d7-0b83-4f35-ba51-41856b0abdb6",
   "metadata": {},
   "outputs": [],
   "source": [
    "vaders = pd.read_csv('vaders.csv')"
   ]
  },
  {
   "cell_type": "markdown",
   "id": "6154d83a-72d1-4222-a79f-fb4c27a8cd2d",
   "metadata": {},
   "source": [
    "import csv file "
   ]
  },
  {
   "cell_type": "markdown",
   "id": "88930c76-e972-4faa-8d7d-6fa32e6fd916",
   "metadata": {},
   "source": [
    "### Train & Test Decomposition"
   ]
  },
  {
   "cell_type": "markdown",
   "id": "837f4906-95fa-4ed6-9d39-25717d9302d3",
   "metadata": {},
   "source": [
    "On supervised learning we need to train algorithms with datasets train part and testing that trained dataset."
   ]
  },
  {
   "cell_type": "code",
   "execution_count": 4,
   "id": "6884e6a9-40f9-4b99-988b-53fa180953d0",
   "metadata": {},
   "outputs": [],
   "source": [
    "x_train, x_test, y_train, y_test = train_test_split(vaders[\"Text\"], vaders[\"SScoring\"], test_size=0.25, random_state=1)"
   ]
  },
  {
   "cell_type": "code",
   "execution_count": 5,
   "id": "d6b20dc2-8ecb-409e-bc3f-62a5ae4b71c8",
   "metadata": {},
   "outputs": [
    {
     "data": {
      "text/plain": [
       "376903    dog usually eat anything vomited hour period f...\n",
       "445243    excited find item since lipton changed recipe ...\n",
       "226194    salt hickory smoked sea salt durango great bbq...\n",
       "456411    ideal rack kcups especially good limited count...\n",
       "327413    son month old starting spitting regular enfami...\n",
       "Name: Text, dtype: object"
      ]
     },
     "execution_count": 5,
     "metadata": {},
     "output_type": "execute_result"
    }
   ],
   "source": [
    "x_train.head()"
   ]
  },
  {
   "cell_type": "code",
   "execution_count": 6,
   "id": "d27b4584-fb28-4c3d-892f-1ee85ed93ea9",
   "metadata": {},
   "outputs": [
    {
     "data": {
      "text/plain": [
       "376903    0\n",
       "445243    2\n",
       "226194    2\n",
       "456411    2\n",
       "327413    1\n",
       "Name: SScoring, dtype: int64"
      ]
     },
     "execution_count": 6,
     "metadata": {},
     "output_type": "execute_result"
    }
   ],
   "source": [
    "y_train.head()"
   ]
  },
  {
   "cell_type": "markdown",
   "id": "6ede3dce-a555-42a0-b576-9edb155bb93e",
   "metadata": {},
   "source": [
    "### Count Vectors"
   ]
  },
  {
   "cell_type": "markdown",
   "id": "97243c2b-e28f-459e-9cee-641f24855fde",
   "metadata": {},
   "source": [
    " It is used to transform a given text into a vector on the basis of the frequency (count) of each word that occurs in the entire text. This is helpful when we have multiple such texts, \n",
    " and we wish to convert each word in each text into vectors (for using in further text analysis).\n",
    "\n",
    "- Countvectorizer is a method to convert text to numerical data.\n",
    "- The text transforms to a sparse matrix.\n",
    "- Machine learning algorithms cannot work with raw text directly. Rather, the text must be converted into vectors of numbers. In natural language processing, \n",
    "a common technique for extracting features from text is to place all of the words that occur in the text in a bucket."
   ]
  },
  {
   "cell_type": "code",
   "execution_count": 5,
   "id": "e24c378d-ab9a-40f8-905e-ac0cde1b97c4",
   "metadata": {
    "tags": []
   },
   "outputs": [
    {
     "data": {
      "text/html": [
       "<style>#sk-container-id-1 {color: black;background-color: white;}#sk-container-id-1 pre{padding: 0;}#sk-container-id-1 div.sk-toggleable {background-color: white;}#sk-container-id-1 label.sk-toggleable__label {cursor: pointer;display: block;width: 100%;margin-bottom: 0;padding: 0.3em;box-sizing: border-box;text-align: center;}#sk-container-id-1 label.sk-toggleable__label-arrow:before {content: \"▸\";float: left;margin-right: 0.25em;color: #696969;}#sk-container-id-1 label.sk-toggleable__label-arrow:hover:before {color: black;}#sk-container-id-1 div.sk-estimator:hover label.sk-toggleable__label-arrow:before {color: black;}#sk-container-id-1 div.sk-toggleable__content {max-height: 0;max-width: 0;overflow: hidden;text-align: left;background-color: #f0f8ff;}#sk-container-id-1 div.sk-toggleable__content pre {margin: 0.2em;color: black;border-radius: 0.25em;background-color: #f0f8ff;}#sk-container-id-1 input.sk-toggleable__control:checked~div.sk-toggleable__content {max-height: 200px;max-width: 100%;overflow: auto;}#sk-container-id-1 input.sk-toggleable__control:checked~label.sk-toggleable__label-arrow:before {content: \"▾\";}#sk-container-id-1 div.sk-estimator input.sk-toggleable__control:checked~label.sk-toggleable__label {background-color: #d4ebff;}#sk-container-id-1 div.sk-label input.sk-toggleable__control:checked~label.sk-toggleable__label {background-color: #d4ebff;}#sk-container-id-1 input.sk-hidden--visually {border: 0;clip: rect(1px 1px 1px 1px);clip: rect(1px, 1px, 1px, 1px);height: 1px;margin: -1px;overflow: hidden;padding: 0;position: absolute;width: 1px;}#sk-container-id-1 div.sk-estimator {font-family: monospace;background-color: #f0f8ff;border: 1px dotted black;border-radius: 0.25em;box-sizing: border-box;margin-bottom: 0.5em;}#sk-container-id-1 div.sk-estimator:hover {background-color: #d4ebff;}#sk-container-id-1 div.sk-parallel-item::after {content: \"\";width: 100%;border-bottom: 1px solid gray;flex-grow: 1;}#sk-container-id-1 div.sk-label:hover label.sk-toggleable__label {background-color: #d4ebff;}#sk-container-id-1 div.sk-serial::before {content: \"\";position: absolute;border-left: 1px solid gray;box-sizing: border-box;top: 0;bottom: 0;left: 50%;z-index: 0;}#sk-container-id-1 div.sk-serial {display: flex;flex-direction: column;align-items: center;background-color: white;padding-right: 0.2em;padding-left: 0.2em;position: relative;}#sk-container-id-1 div.sk-item {position: relative;z-index: 1;}#sk-container-id-1 div.sk-parallel {display: flex;align-items: stretch;justify-content: center;background-color: white;position: relative;}#sk-container-id-1 div.sk-item::before, #sk-container-id-1 div.sk-parallel-item::before {content: \"\";position: absolute;border-left: 1px solid gray;box-sizing: border-box;top: 0;bottom: 0;left: 50%;z-index: -1;}#sk-container-id-1 div.sk-parallel-item {display: flex;flex-direction: column;z-index: 1;position: relative;background-color: white;}#sk-container-id-1 div.sk-parallel-item:first-child::after {align-self: flex-end;width: 50%;}#sk-container-id-1 div.sk-parallel-item:last-child::after {align-self: flex-start;width: 50%;}#sk-container-id-1 div.sk-parallel-item:only-child::after {width: 0;}#sk-container-id-1 div.sk-dashed-wrapped {border: 1px dashed gray;margin: 0 0.4em 0.5em 0.4em;box-sizing: border-box;padding-bottom: 0.4em;background-color: white;}#sk-container-id-1 div.sk-label label {font-family: monospace;font-weight: bold;display: inline-block;line-height: 1.2em;}#sk-container-id-1 div.sk-label-container {text-align: center;}#sk-container-id-1 div.sk-container {/* jupyter's `normalize.less` sets `[hidden] { display: none; }` but bootstrap.min.css set `[hidden] { display: none !important; }` so we also need the `!important` here to be able to override the default hidden behavior on the sphinx rendered scikit-learn.org. See: https://github.com/scikit-learn/scikit-learn/issues/21755 */display: inline-block !important;position: relative;}#sk-container-id-1 div.sk-text-repr-fallback {display: none;}</style><div id=\"sk-container-id-1\" class=\"sk-top-container\"><div class=\"sk-text-repr-fallback\"><pre>CountVectorizer()</pre><b>In a Jupyter environment, please rerun this cell to show the HTML representation or trust the notebook. <br />On GitHub, the HTML representation is unable to render, please try loading this page with nbviewer.org.</b></div><div class=\"sk-container\" hidden><div class=\"sk-item\"><div class=\"sk-estimator sk-toggleable\"><input class=\"sk-toggleable__control sk-hidden--visually\" id=\"sk-estimator-id-1\" type=\"checkbox\" checked><label for=\"sk-estimator-id-1\" class=\"sk-toggleable__label sk-toggleable__label-arrow\">CountVectorizer</label><div class=\"sk-toggleable__content\"><pre>CountVectorizer()</pre></div></div></div></div></div>"
      ],
      "text/plain": [
       "CountVectorizer()"
      ]
     },
     "execution_count": 5,
     "metadata": {},
     "output_type": "execute_result"
    }
   ],
   "source": [
    "vectorizer = CountVectorizer()\n",
    "vectorizer.fit(x_train.values.astype('U'))"
   ]
  },
  {
   "cell_type": "code",
   "execution_count": 6,
   "id": "bd50442a-f179-4322-8214-5f7b11d7b8ac",
   "metadata": {},
   "outputs": [],
   "source": [
    "x_train_count = vectorizer.transform(x_train.values.astype('U'))\n",
    "x_test_count = vectorizer.transform(x_test.values.astype('U'))"
   ]
  },
  {
   "cell_type": "code",
   "execution_count": 19,
   "id": "a59fb5b3-af7c-41e7-9f0f-d20113bc295f",
   "metadata": {
    "tags": []
   },
   "outputs": [
    {
     "data": {
      "text/plain": [
       "['_can_', '_exactly_', '_finally_', '_i', '_i_']"
      ]
     },
     "execution_count": 19,
     "metadata": {},
     "output_type": "execute_result"
    }
   ],
   "source": [
    "vectorizer.get_feature_names()[10:15]"
   ]
  },
  {
   "cell_type": "code",
   "execution_count": 7,
   "id": "fdc85aa6-eeb4-403b-b82b-3f164bef357c",
   "metadata": {
    "tags": []
   },
   "outputs": [
    {
     "data": {
      "text/plain": [
       "array(<426340x100315 sparse matrix of type '<class 'numpy.int64'>'\n",
       "\twith 14410624 stored elements in Compressed Sparse Row format>,\n",
       "      dtype=object)"
      ]
     },
     "execution_count": 7,
     "metadata": {},
     "output_type": "execute_result"
    }
   ],
   "source": [
    "np.asarray(x_train_count)"
   ]
  },
  {
   "cell_type": "markdown",
   "id": "8c92893a-47ce-4535-b920-d4a03ad520bc",
   "metadata": {},
   "source": [
    "### TF-IDF"
   ]
  },
  {
   "cell_type": "markdown",
   "id": "3984e033-df4d-4725-8b03-f76f3fcc7de7",
   "metadata": {},
   "source": [
    "Tf-Idf are numerical statistics: Term frequency(tf) and inverse document frequency(idf) are shows that a word how important on the document.\n",
    "\n",
    "\n",
    "- Tf(t) = The number of times a word appears in a document divded by the total number of words in the document. Every document has its own term frequency\n",
    "- IDF(t) = The log of the number of documents divided by the number of documents that contain the word w. Inverse data frequency determines the weight of rare words across all documents in the corpus\n",
    "- It can be defined as the calculation of how relevant a word in a series or corpus is to a text.\n",
    "- OR How to find meaning of sentences and documents.\n",
    "\n",
    "\n",
    "- I found another explaining => Tf-Idf is a technique which is used to find meaning of sentences consisting of words and cancels out the incapabilities of Bag of Words technique which is good for text classification or for helping a machine read words in numbers."
   ]
  },
  {
   "cell_type": "markdown",
   "id": "724a54e7-a540-4d13-bbe2-3e00acb058a5",
   "metadata": {},
   "source": [
    "![TFIDF](source/tfidf.jpg)"
   ]
  },
  {
   "cell_type": "code",
   "execution_count": 5,
   "id": "95fd433a-c393-414c-b083-aaae453e41d9",
   "metadata": {},
   "outputs": [],
   "source": [
    "tf_idf_word_vectorizer = TfidfVectorizer()"
   ]
  },
  {
   "cell_type": "markdown",
   "id": "0623ce2f-7fae-4459-8647-36c0cd3719dc",
   "metadata": {},
   "source": [
    "#### custom n-gram level"
   ]
  },
  {
   "cell_type": "markdown",
   "id": "bf13d106-756f-4e1b-b8a7-4d032eab7388",
   "metadata": {},
   "source": [
    "Wikipedia defines an N-Gram as “A contiguous sequence of N items from a given sample of text or speech”.\n",
    "\n",
    "- Here an item can be a character(char level), a word or a sentence and N can be any integer. When N is 2, we call the sequence a bigram. Similarly, a sequence of 3 items is called a trigram, and so on.\n",
    "- The N-Gram model is one of the best sentence-to-vector models, since it utilizes the context between N-words in a sentence."
   ]
  },
  {
   "cell_type": "code",
   "execution_count": 6,
   "id": "10edce02-1bcd-48cd-9eee-6795ea7d1265",
   "metadata": {},
   "outputs": [
    {
     "data": {
      "text/html": [
       "<style>#sk-container-id-1 {color: black;background-color: white;}#sk-container-id-1 pre{padding: 0;}#sk-container-id-1 div.sk-toggleable {background-color: white;}#sk-container-id-1 label.sk-toggleable__label {cursor: pointer;display: block;width: 100%;margin-bottom: 0;padding: 0.3em;box-sizing: border-box;text-align: center;}#sk-container-id-1 label.sk-toggleable__label-arrow:before {content: \"▸\";float: left;margin-right: 0.25em;color: #696969;}#sk-container-id-1 label.sk-toggleable__label-arrow:hover:before {color: black;}#sk-container-id-1 div.sk-estimator:hover label.sk-toggleable__label-arrow:before {color: black;}#sk-container-id-1 div.sk-toggleable__content {max-height: 0;max-width: 0;overflow: hidden;text-align: left;background-color: #f0f8ff;}#sk-container-id-1 div.sk-toggleable__content pre {margin: 0.2em;color: black;border-radius: 0.25em;background-color: #f0f8ff;}#sk-container-id-1 input.sk-toggleable__control:checked~div.sk-toggleable__content {max-height: 200px;max-width: 100%;overflow: auto;}#sk-container-id-1 input.sk-toggleable__control:checked~label.sk-toggleable__label-arrow:before {content: \"▾\";}#sk-container-id-1 div.sk-estimator input.sk-toggleable__control:checked~label.sk-toggleable__label {background-color: #d4ebff;}#sk-container-id-1 div.sk-label input.sk-toggleable__control:checked~label.sk-toggleable__label {background-color: #d4ebff;}#sk-container-id-1 input.sk-hidden--visually {border: 0;clip: rect(1px 1px 1px 1px);clip: rect(1px, 1px, 1px, 1px);height: 1px;margin: -1px;overflow: hidden;padding: 0;position: absolute;width: 1px;}#sk-container-id-1 div.sk-estimator {font-family: monospace;background-color: #f0f8ff;border: 1px dotted black;border-radius: 0.25em;box-sizing: border-box;margin-bottom: 0.5em;}#sk-container-id-1 div.sk-estimator:hover {background-color: #d4ebff;}#sk-container-id-1 div.sk-parallel-item::after {content: \"\";width: 100%;border-bottom: 1px solid gray;flex-grow: 1;}#sk-container-id-1 div.sk-label:hover label.sk-toggleable__label {background-color: #d4ebff;}#sk-container-id-1 div.sk-serial::before {content: \"\";position: absolute;border-left: 1px solid gray;box-sizing: border-box;top: 0;bottom: 0;left: 50%;z-index: 0;}#sk-container-id-1 div.sk-serial {display: flex;flex-direction: column;align-items: center;background-color: white;padding-right: 0.2em;padding-left: 0.2em;position: relative;}#sk-container-id-1 div.sk-item {position: relative;z-index: 1;}#sk-container-id-1 div.sk-parallel {display: flex;align-items: stretch;justify-content: center;background-color: white;position: relative;}#sk-container-id-1 div.sk-item::before, #sk-container-id-1 div.sk-parallel-item::before {content: \"\";position: absolute;border-left: 1px solid gray;box-sizing: border-box;top: 0;bottom: 0;left: 50%;z-index: -1;}#sk-container-id-1 div.sk-parallel-item {display: flex;flex-direction: column;z-index: 1;position: relative;background-color: white;}#sk-container-id-1 div.sk-parallel-item:first-child::after {align-self: flex-end;width: 50%;}#sk-container-id-1 div.sk-parallel-item:last-child::after {align-self: flex-start;width: 50%;}#sk-container-id-1 div.sk-parallel-item:only-child::after {width: 0;}#sk-container-id-1 div.sk-dashed-wrapped {border: 1px dashed gray;margin: 0 0.4em 0.5em 0.4em;box-sizing: border-box;padding-bottom: 0.4em;background-color: white;}#sk-container-id-1 div.sk-label label {font-family: monospace;font-weight: bold;display: inline-block;line-height: 1.2em;}#sk-container-id-1 div.sk-label-container {text-align: center;}#sk-container-id-1 div.sk-container {/* jupyter's `normalize.less` sets `[hidden] { display: none; }` but bootstrap.min.css set `[hidden] { display: none !important; }` so we also need the `!important` here to be able to override the default hidden behavior on the sphinx rendered scikit-learn.org. See: https://github.com/scikit-learn/scikit-learn/issues/21755 */display: inline-block !important;position: relative;}#sk-container-id-1 div.sk-text-repr-fallback {display: none;}</style><div id=\"sk-container-id-1\" class=\"sk-top-container\"><div class=\"sk-text-repr-fallback\"><pre>TfidfVectorizer(ngram_range=(1, 2))</pre><b>In a Jupyter environment, please rerun this cell to show the HTML representation or trust the notebook. <br />On GitHub, the HTML representation is unable to render, please try loading this page with nbviewer.org.</b></div><div class=\"sk-container\" hidden><div class=\"sk-item\"><div class=\"sk-estimator sk-toggleable\"><input class=\"sk-toggleable__control sk-hidden--visually\" id=\"sk-estimator-id-1\" type=\"checkbox\" checked><label for=\"sk-estimator-id-1\" class=\"sk-toggleable__label sk-toggleable__label-arrow\">TfidfVectorizer</label><div class=\"sk-toggleable__content\"><pre>TfidfVectorizer(ngram_range=(1, 2))</pre></div></div></div></div></div>"
      ],
      "text/plain": [
       "TfidfVectorizer(ngram_range=(1, 2))"
      ]
     },
     "execution_count": 6,
     "metadata": {},
     "output_type": "execute_result"
    }
   ],
   "source": [
    "tf_idf_ngram_vectorizer = TfidfVectorizer(ngram_range = (1,2))\n",
    "tf_idf_ngram_vectorizer.fit(x_train.apply(lambda x: np.str_(x)))"
   ]
  },
  {
   "cell_type": "code",
   "execution_count": 120,
   "id": "5dc0c776-efaa-48b8-9c88-2e0d246506f9",
   "metadata": {},
   "outputs": [
    {
     "data": {
      "text/plain": [
       "['___ instead water_',\n",
       " '___ this',\n",
       " '___ this bit',\n",
       " '___ variety',\n",
       " '___ variety calculated']"
      ]
     },
     "execution_count": 120,
     "metadata": {},
     "output_type": "execute_result"
    }
   ],
   "source": [
    "tf_idf_ngram_vectorizer.get_feature_names()[10:15]"
   ]
  },
  {
   "cell_type": "code",
   "execution_count": 7,
   "id": "2241145e-624f-4556-be58-2bc0b66aa5d3",
   "metadata": {
    "tags": []
   },
   "outputs": [],
   "source": [
    "x_train_tf_idf_ngram = tf_idf_ngram_vectorizer.transform(x_train.apply(lambda x: np.str_(x)))\n",
    "x_test_tf_idf_ngram = tf_idf_ngram_vectorizer.transform(x_test.apply(lambda x: np.str_(x)))"
   ]
  },
  {
   "cell_type": "markdown",
   "id": "5ba0a371-c709-413e-aad1-70374d07baee",
   "metadata": {},
   "source": [
    "#### word level n_gram"
   ]
  },
  {
   "cell_type": "code",
   "execution_count": 8,
   "id": "e9f4ce82-0dd4-4330-b704-80380ba8a6b5",
   "metadata": {},
   "outputs": [
    {
     "data": {
      "text/html": [
       "<style>#sk-container-id-2 {color: black;background-color: white;}#sk-container-id-2 pre{padding: 0;}#sk-container-id-2 div.sk-toggleable {background-color: white;}#sk-container-id-2 label.sk-toggleable__label {cursor: pointer;display: block;width: 100%;margin-bottom: 0;padding: 0.3em;box-sizing: border-box;text-align: center;}#sk-container-id-2 label.sk-toggleable__label-arrow:before {content: \"▸\";float: left;margin-right: 0.25em;color: #696969;}#sk-container-id-2 label.sk-toggleable__label-arrow:hover:before {color: black;}#sk-container-id-2 div.sk-estimator:hover label.sk-toggleable__label-arrow:before {color: black;}#sk-container-id-2 div.sk-toggleable__content {max-height: 0;max-width: 0;overflow: hidden;text-align: left;background-color: #f0f8ff;}#sk-container-id-2 div.sk-toggleable__content pre {margin: 0.2em;color: black;border-radius: 0.25em;background-color: #f0f8ff;}#sk-container-id-2 input.sk-toggleable__control:checked~div.sk-toggleable__content {max-height: 200px;max-width: 100%;overflow: auto;}#sk-container-id-2 input.sk-toggleable__control:checked~label.sk-toggleable__label-arrow:before {content: \"▾\";}#sk-container-id-2 div.sk-estimator input.sk-toggleable__control:checked~label.sk-toggleable__label {background-color: #d4ebff;}#sk-container-id-2 div.sk-label input.sk-toggleable__control:checked~label.sk-toggleable__label {background-color: #d4ebff;}#sk-container-id-2 input.sk-hidden--visually {border: 0;clip: rect(1px 1px 1px 1px);clip: rect(1px, 1px, 1px, 1px);height: 1px;margin: -1px;overflow: hidden;padding: 0;position: absolute;width: 1px;}#sk-container-id-2 div.sk-estimator {font-family: monospace;background-color: #f0f8ff;border: 1px dotted black;border-radius: 0.25em;box-sizing: border-box;margin-bottom: 0.5em;}#sk-container-id-2 div.sk-estimator:hover {background-color: #d4ebff;}#sk-container-id-2 div.sk-parallel-item::after {content: \"\";width: 100%;border-bottom: 1px solid gray;flex-grow: 1;}#sk-container-id-2 div.sk-label:hover label.sk-toggleable__label {background-color: #d4ebff;}#sk-container-id-2 div.sk-serial::before {content: \"\";position: absolute;border-left: 1px solid gray;box-sizing: border-box;top: 0;bottom: 0;left: 50%;z-index: 0;}#sk-container-id-2 div.sk-serial {display: flex;flex-direction: column;align-items: center;background-color: white;padding-right: 0.2em;padding-left: 0.2em;position: relative;}#sk-container-id-2 div.sk-item {position: relative;z-index: 1;}#sk-container-id-2 div.sk-parallel {display: flex;align-items: stretch;justify-content: center;background-color: white;position: relative;}#sk-container-id-2 div.sk-item::before, #sk-container-id-2 div.sk-parallel-item::before {content: \"\";position: absolute;border-left: 1px solid gray;box-sizing: border-box;top: 0;bottom: 0;left: 50%;z-index: -1;}#sk-container-id-2 div.sk-parallel-item {display: flex;flex-direction: column;z-index: 1;position: relative;background-color: white;}#sk-container-id-2 div.sk-parallel-item:first-child::after {align-self: flex-end;width: 50%;}#sk-container-id-2 div.sk-parallel-item:last-child::after {align-self: flex-start;width: 50%;}#sk-container-id-2 div.sk-parallel-item:only-child::after {width: 0;}#sk-container-id-2 div.sk-dashed-wrapped {border: 1px dashed gray;margin: 0 0.4em 0.5em 0.4em;box-sizing: border-box;padding-bottom: 0.4em;background-color: white;}#sk-container-id-2 div.sk-label label {font-family: monospace;font-weight: bold;display: inline-block;line-height: 1.2em;}#sk-container-id-2 div.sk-label-container {text-align: center;}#sk-container-id-2 div.sk-container {/* jupyter's `normalize.less` sets `[hidden] { display: none; }` but bootstrap.min.css set `[hidden] { display: none !important; }` so we also need the `!important` here to be able to override the default hidden behavior on the sphinx rendered scikit-learn.org. See: https://github.com/scikit-learn/scikit-learn/issues/21755 */display: inline-block !important;position: relative;}#sk-container-id-2 div.sk-text-repr-fallback {display: none;}</style><div id=\"sk-container-id-2\" class=\"sk-top-container\"><div class=\"sk-text-repr-fallback\"><pre>TfidfVectorizer()</pre><b>In a Jupyter environment, please rerun this cell to show the HTML representation or trust the notebook. <br />On GitHub, the HTML representation is unable to render, please try loading this page with nbviewer.org.</b></div><div class=\"sk-container\" hidden><div class=\"sk-item\"><div class=\"sk-estimator sk-toggleable\"><input class=\"sk-toggleable__control sk-hidden--visually\" id=\"sk-estimator-id-2\" type=\"checkbox\" checked><label for=\"sk-estimator-id-2\" class=\"sk-toggleable__label sk-toggleable__label-arrow\">TfidfVectorizer</label><div class=\"sk-toggleable__content\"><pre>TfidfVectorizer()</pre></div></div></div></div></div>"
      ],
      "text/plain": [
       "TfidfVectorizer()"
      ]
     },
     "execution_count": 8,
     "metadata": {},
     "output_type": "execute_result"
    }
   ],
   "source": [
    "tf_idf_word_vectorizer.fit(x_train.apply(lambda x: np.str_(x)))"
   ]
  },
  {
   "cell_type": "code",
   "execution_count": 9,
   "id": "ef743405-30df-45e4-844e-cceb54343809",
   "metadata": {},
   "outputs": [],
   "source": [
    "x_train_tf_idf_word = tf_idf_word_vectorizer.transform(x_train.apply(lambda x: np.str_(x)))\n",
    "x_test_tf_idf_word = tf_idf_word_vectorizer.transform(x_test.apply(lambda x: np.str_(x)))"
   ]
  },
  {
   "cell_type": "code",
   "execution_count": 124,
   "id": "b5bd9343-f4e1-440a-832d-88593bf3015f",
   "metadata": {},
   "outputs": [
    {
     "data": {
      "text/plain": [
       "['_absolutely', '_add_', '_after_', '_alicia', '_always_']"
      ]
     },
     "execution_count": 124,
     "metadata": {},
     "output_type": "execute_result"
    }
   ],
   "source": [
    "tf_idf_word_vectorizer.get_feature_names()[10:15]"
   ]
  },
  {
   "cell_type": "code",
   "execution_count": 10,
   "id": "3acc5ee6-d621-4c29-b9a7-60f102a45b69",
   "metadata": {},
   "outputs": [
    {
     "data": {
      "text/plain": [
       "array(<426340x100315 sparse matrix of type '<class 'numpy.float64'>'\n",
       "\twith 14410624 stored elements in Compressed Sparse Row format>,\n",
       "      dtype=object)"
      ]
     },
     "execution_count": 10,
     "metadata": {},
     "output_type": "execute_result"
    }
   ],
   "source": [
    "np.asarray(x_train_tf_idf_word)"
   ]
  },
  {
   "cell_type": "markdown",
   "id": "c5d06446-70b9-427d-acd2-befb661ae2e7",
   "metadata": {},
   "source": [
    "#### charachter level n_gram"
   ]
  },
  {
   "cell_type": "code",
   "execution_count": 11,
   "id": "c07afec7-b092-4210-a72d-c5f71a85cd9b",
   "metadata": {},
   "outputs": [
    {
     "data": {
      "text/html": [
       "<style>#sk-container-id-3 {color: black;background-color: white;}#sk-container-id-3 pre{padding: 0;}#sk-container-id-3 div.sk-toggleable {background-color: white;}#sk-container-id-3 label.sk-toggleable__label {cursor: pointer;display: block;width: 100%;margin-bottom: 0;padding: 0.3em;box-sizing: border-box;text-align: center;}#sk-container-id-3 label.sk-toggleable__label-arrow:before {content: \"▸\";float: left;margin-right: 0.25em;color: #696969;}#sk-container-id-3 label.sk-toggleable__label-arrow:hover:before {color: black;}#sk-container-id-3 div.sk-estimator:hover label.sk-toggleable__label-arrow:before {color: black;}#sk-container-id-3 div.sk-toggleable__content {max-height: 0;max-width: 0;overflow: hidden;text-align: left;background-color: #f0f8ff;}#sk-container-id-3 div.sk-toggleable__content pre {margin: 0.2em;color: black;border-radius: 0.25em;background-color: #f0f8ff;}#sk-container-id-3 input.sk-toggleable__control:checked~div.sk-toggleable__content {max-height: 200px;max-width: 100%;overflow: auto;}#sk-container-id-3 input.sk-toggleable__control:checked~label.sk-toggleable__label-arrow:before {content: \"▾\";}#sk-container-id-3 div.sk-estimator input.sk-toggleable__control:checked~label.sk-toggleable__label {background-color: #d4ebff;}#sk-container-id-3 div.sk-label input.sk-toggleable__control:checked~label.sk-toggleable__label {background-color: #d4ebff;}#sk-container-id-3 input.sk-hidden--visually {border: 0;clip: rect(1px 1px 1px 1px);clip: rect(1px, 1px, 1px, 1px);height: 1px;margin: -1px;overflow: hidden;padding: 0;position: absolute;width: 1px;}#sk-container-id-3 div.sk-estimator {font-family: monospace;background-color: #f0f8ff;border: 1px dotted black;border-radius: 0.25em;box-sizing: border-box;margin-bottom: 0.5em;}#sk-container-id-3 div.sk-estimator:hover {background-color: #d4ebff;}#sk-container-id-3 div.sk-parallel-item::after {content: \"\";width: 100%;border-bottom: 1px solid gray;flex-grow: 1;}#sk-container-id-3 div.sk-label:hover label.sk-toggleable__label {background-color: #d4ebff;}#sk-container-id-3 div.sk-serial::before {content: \"\";position: absolute;border-left: 1px solid gray;box-sizing: border-box;top: 0;bottom: 0;left: 50%;z-index: 0;}#sk-container-id-3 div.sk-serial {display: flex;flex-direction: column;align-items: center;background-color: white;padding-right: 0.2em;padding-left: 0.2em;position: relative;}#sk-container-id-3 div.sk-item {position: relative;z-index: 1;}#sk-container-id-3 div.sk-parallel {display: flex;align-items: stretch;justify-content: center;background-color: white;position: relative;}#sk-container-id-3 div.sk-item::before, #sk-container-id-3 div.sk-parallel-item::before {content: \"\";position: absolute;border-left: 1px solid gray;box-sizing: border-box;top: 0;bottom: 0;left: 50%;z-index: -1;}#sk-container-id-3 div.sk-parallel-item {display: flex;flex-direction: column;z-index: 1;position: relative;background-color: white;}#sk-container-id-3 div.sk-parallel-item:first-child::after {align-self: flex-end;width: 50%;}#sk-container-id-3 div.sk-parallel-item:last-child::after {align-self: flex-start;width: 50%;}#sk-container-id-3 div.sk-parallel-item:only-child::after {width: 0;}#sk-container-id-3 div.sk-dashed-wrapped {border: 1px dashed gray;margin: 0 0.4em 0.5em 0.4em;box-sizing: border-box;padding-bottom: 0.4em;background-color: white;}#sk-container-id-3 div.sk-label label {font-family: monospace;font-weight: bold;display: inline-block;line-height: 1.2em;}#sk-container-id-3 div.sk-label-container {text-align: center;}#sk-container-id-3 div.sk-container {/* jupyter's `normalize.less` sets `[hidden] { display: none; }` but bootstrap.min.css set `[hidden] { display: none !important; }` so we also need the `!important` here to be able to override the default hidden behavior on the sphinx rendered scikit-learn.org. See: https://github.com/scikit-learn/scikit-learn/issues/21755 */display: inline-block !important;position: relative;}#sk-container-id-3 div.sk-text-repr-fallback {display: none;}</style><div id=\"sk-container-id-3\" class=\"sk-top-container\"><div class=\"sk-text-repr-fallback\"><pre>TfidfVectorizer(analyzer=&#x27;char&#x27;, ngram_range=(1, 2))</pre><b>In a Jupyter environment, please rerun this cell to show the HTML representation or trust the notebook. <br />On GitHub, the HTML representation is unable to render, please try loading this page with nbviewer.org.</b></div><div class=\"sk-container\" hidden><div class=\"sk-item\"><div class=\"sk-estimator sk-toggleable\"><input class=\"sk-toggleable__control sk-hidden--visually\" id=\"sk-estimator-id-3\" type=\"checkbox\" checked><label for=\"sk-estimator-id-3\" class=\"sk-toggleable__label sk-toggleable__label-arrow\">TfidfVectorizer</label><div class=\"sk-toggleable__content\"><pre>TfidfVectorizer(analyzer=&#x27;char&#x27;, ngram_range=(1, 2))</pre></div></div></div></div></div>"
      ],
      "text/plain": [
       "TfidfVectorizer(analyzer='char', ngram_range=(1, 2))"
      ]
     },
     "execution_count": 11,
     "metadata": {},
     "output_type": "execute_result"
    }
   ],
   "source": [
    "tf_idf_chars_vectorizer = TfidfVectorizer(analyzer=\"char\", ngram_range=(1,2))\n",
    "tf_idf_chars_vectorizer.fit(x_train.apply(lambda x: np.str_(x)))"
   ]
  },
  {
   "cell_type": "code",
   "execution_count": 127,
   "id": "1d08fd60-d506-46c1-a04c-93bc0da1767e",
   "metadata": {},
   "outputs": [
    {
     "data": {
      "text/plain": [
       "[' _i', ' _k', ' _l', ' _m', ' _n']"
      ]
     },
     "execution_count": 127,
     "metadata": {},
     "output_type": "execute_result"
    }
   ],
   "source": [
    "tf_idf_chars_vectorizer.get_feature_names()[10:15]"
   ]
  },
  {
   "cell_type": "code",
   "execution_count": 12,
   "id": "69cdcc05-3ede-41b6-816c-ed4076c0d697",
   "metadata": {},
   "outputs": [],
   "source": [
    "x_train_tf_idf_chars = tf_idf_chars_vectorizer.transform(x_train.apply(lambda x: np.str_(x)))\n",
    "x_test_tf_idf_chars = tf_idf_chars_vectorizer.transform(x_test.apply(lambda x: np.str_(x)))"
   ]
  },
  {
   "cell_type": "markdown",
   "id": "c70e1e1c-0530-4a05-894e-3ade4347d7f7",
   "metadata": {},
   "source": [
    "### Export Vectorizers For Run Another Platforms"
   ]
  },
  {
   "cell_type": "code",
   "execution_count": 13,
   "id": "2024f106-aac5-43cc-b805-983fdfa446bb",
   "metadata": {},
   "outputs": [],
   "source": [
    "from scipy import sparse, io"
   ]
  },
  {
   "cell_type": "markdown",
   "id": "62a42447-573a-4df3-9da5-f07833650c76",
   "metadata": {},
   "source": [
    "#### Count Vectorizer Export"
   ]
  },
  {
   "cell_type": "code",
   "execution_count": 38,
   "id": "ec28259e-d7f4-4ee8-9f52-1f0eebda10b4",
   "metadata": {
    "tags": []
   },
   "outputs": [],
   "source": [
    "io.mmwrite(\"x_train_count\", x_train_count)"
   ]
  },
  {
   "cell_type": "code",
   "execution_count": 46,
   "id": "3f847154-62b1-448f-be66-e1f5dfd6be02",
   "metadata": {},
   "outputs": [],
   "source": [
    "io.mmwrite(\"x_test_count\", x_test_count)"
   ]
  },
  {
   "cell_type": "markdown",
   "id": "d9e14b27-ec92-4d94-9741-b910beb1a8f0",
   "metadata": {},
   "source": [
    "#### TF-IDF Exports"
   ]
  },
  {
   "cell_type": "markdown",
   "id": "c3fabc85-6478-4c9c-b656-6eb8c4b847c4",
   "metadata": {},
   "source": [
    "##### n_gram level"
   ]
  },
  {
   "cell_type": "code",
   "execution_count": 14,
   "id": "5a486131-db46-4bf5-aa1a-1ccf77311cce",
   "metadata": {},
   "outputs": [],
   "source": [
    "io.mmwrite(\"x_train_tf_idf_ngram\", x_train_tf_idf_ngram)"
   ]
  },
  {
   "cell_type": "code",
   "execution_count": 15,
   "id": "9a358d1c-cefa-4db4-99af-9337ed9d71a8",
   "metadata": {},
   "outputs": [],
   "source": [
    "io.mmwrite(\"x_test_tf_idf_ngram\", x_test_tf_idf_ngram)"
   ]
  },
  {
   "cell_type": "markdown",
   "id": "5f90a808-f2c6-4700-8513-2241c761c98d",
   "metadata": {},
   "source": [
    "##### word level"
   ]
  },
  {
   "cell_type": "code",
   "execution_count": 16,
   "id": "424b8863-8e9b-4919-ae65-cf8443ed8d38",
   "metadata": {},
   "outputs": [],
   "source": [
    "io.mmwrite(\"x_train_tf_idf_word\", x_train_tf_idf_word)"
   ]
  },
  {
   "cell_type": "code",
   "execution_count": 17,
   "id": "4f82363d-fe04-45d7-9883-e35ca5229819",
   "metadata": {},
   "outputs": [],
   "source": [
    "io.mmwrite(\"x_test_tf_idf_word\", x_test_tf_idf_word)"
   ]
  },
  {
   "cell_type": "markdown",
   "id": "1772875b-b2e5-4cf1-905f-cb5c30d607ca",
   "metadata": {},
   "source": [
    "##### character level"
   ]
  },
  {
   "cell_type": "code",
   "execution_count": 18,
   "id": "086d0663-c710-4a00-9fc6-44497b045630",
   "metadata": {},
   "outputs": [],
   "source": [
    "io.mmwrite(\"x_train_tf_idf_chars\", x_train_tf_idf_chars)"
   ]
  },
  {
   "cell_type": "code",
   "execution_count": 19,
   "id": "d8ddc6b8-58a6-4bcc-9d19-61aa379d9514",
   "metadata": {},
   "outputs": [],
   "source": [
    "io.mmwrite(\"x_test_tf_idf_chars\", x_test_tf_idf_chars)"
   ]
  },
  {
   "cell_type": "code",
   "execution_count": 41,
   "id": "9eaaa735-762d-4c73-92b3-bc902a32612a",
   "metadata": {},
   "outputs": [],
   "source": [
    "# import vectorizers\n",
    "#b = io.mmread('x_train_count.mtx')"
   ]
  }
 ],
 "metadata": {
  "kernelspec": {
   "display_name": "Python 3",
   "language": "python",
   "name": "python3"
  },
  "language_info": {
   "codemirror_mode": {
    "name": "ipython",
    "version": 3
   },
   "file_extension": ".py",
   "mimetype": "text/x-python",
   "name": "python",
   "nbconvert_exporter": "python",
   "pygments_lexer": "ipython3",
   "version": "3.8.8"
  },
  "toc-autonumbering": false,
  "toc-showcode": false,
  "toc-showtags": false
 },
 "nbformat": 4,
 "nbformat_minor": 5
}
